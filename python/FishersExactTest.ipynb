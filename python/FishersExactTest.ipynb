{
 "cells": [
  {
   "cell_type": "markdown",
   "id": "98c2e988-3fed-4b7b-9181-ba3ea50fc366",
   "metadata": {},
   "source": [
    "# Use Fischer's Exact test to identify assays first\n",
    "\n",
    "\n",
    "The first cell commented out as raw is the called to group the best model for each unique casn.  This is the same code that was used to create the 'best_models' collection on LiverToxCast.  "
   ]
  },
  {
   "cell_type": "raw",
   "id": "4c360d38-9b47-433b-8a34-18b9bdeded9b",
   "metadata": {},
   "source": [
    "import pandas as pd, numpy as np\n",
    "import pymongo\n",
    "\n",
    "client = pymongo.MongoClient()\n",
    "\n",
    "pipe = [\n",
    "    {'$sort': {'modl_er': 1}},\n",
    "    {\n",
    "        '$group': { '_id': \n",
    "                   {\n",
    "                'aeid': '$aeid',\n",
    "                'casn': '$casn'\n",
    "                    },\n",
    "                   'hitc': {'$first': '$hitc'}\n",
    "                   \n",
    "                  },\n",
    "    \n",
    "        \n",
    "    },\n",
    "    {'$out': {'db': 'LiverToxCast', 'coll': 'hit_calls'}}\n",
    "    \n",
    "]\n",
    "hit_calls = list(client.LiverToxCast.models.aggregate(pipe, allowDiskUse=True))"
   ]
  },
  {
   "cell_type": "code",
   "execution_count": 1,
   "id": "c00edcc1-0a20-4bd8-a491-f8656504136a",
   "metadata": {},
   "outputs": [],
   "source": [
    "import pandas as pd, numpy as np\n",
    "import pymongo, toxcast\n",
    "\n",
    "client = pymongo.MongoClient()\n",
    "\n",
    "\n",
    "hit_calls = pd.DataFrame(list(client.LiverToxCast.hit_calls.aggregate([{'$project': {'aeid':'$_id.aeid', 'casn': '$_id.casn', 'hitc':'$hitc'}}])))"
   ]
  },
  {
   "cell_type": "code",
   "execution_count": 2,
   "id": "bcd12d79-7f8c-49c4-b143-145e9a85145c",
   "metadata": {},
   "outputs": [
    {
     "data": {
      "text/html": [
       "<div>\n",
       "<style scoped>\n",
       "    .dataframe tbody tr th:only-of-type {\n",
       "        vertical-align: middle;\n",
       "    }\n",
       "\n",
       "    .dataframe tbody tr th {\n",
       "        vertical-align: top;\n",
       "    }\n",
       "\n",
       "    .dataframe thead th {\n",
       "        text-align: right;\n",
       "    }\n",
       "</style>\n",
       "<table border=\"1\" class=\"dataframe\">\n",
       "  <thead>\n",
       "    <tr style=\"text-align: right;\">\n",
       "      <th></th>\n",
       "      <th>_id</th>\n",
       "      <th>aeid</th>\n",
       "      <th>casn</th>\n",
       "      <th>hitc</th>\n",
       "    </tr>\n",
       "  </thead>\n",
       "  <tbody>\n",
       "    <tr>\n",
       "      <th>0</th>\n",
       "      <td>{'aeid': 2, 'casn': '100-00-5'}</td>\n",
       "      <td>2</td>\n",
       "      <td>100-00-5</td>\n",
       "      <td>0</td>\n",
       "    </tr>\n",
       "    <tr>\n",
       "      <th>1</th>\n",
       "      <td>{'aeid': 2, 'casn': '100-01-6'}</td>\n",
       "      <td>2</td>\n",
       "      <td>100-01-6</td>\n",
       "      <td>0</td>\n",
       "    </tr>\n",
       "    <tr>\n",
       "      <th>2</th>\n",
       "      <td>{'aeid': 2, 'casn': '100-02-7'}</td>\n",
       "      <td>2</td>\n",
       "      <td>100-02-7</td>\n",
       "      <td>0</td>\n",
       "    </tr>\n",
       "    <tr>\n",
       "      <th>3</th>\n",
       "      <td>{'aeid': 2, 'casn': '100-06-1'}</td>\n",
       "      <td>2</td>\n",
       "      <td>100-06-1</td>\n",
       "      <td>1</td>\n",
       "    </tr>\n",
       "    <tr>\n",
       "      <th>4</th>\n",
       "      <td>{'aeid': 2, 'casn': '100-10-7'}</td>\n",
       "      <td>2</td>\n",
       "      <td>100-10-7</td>\n",
       "      <td>0</td>\n",
       "    </tr>\n",
       "    <tr>\n",
       "      <th>...</th>\n",
       "      <td>...</td>\n",
       "      <td>...</td>\n",
       "      <td>...</td>\n",
       "      <td>...</td>\n",
       "    </tr>\n",
       "    <tr>\n",
       "      <th>3173378</th>\n",
       "      <td>{'aeid': 2533, 'casn': 'NOCAS_47342'}</td>\n",
       "      <td>2533</td>\n",
       "      <td>NOCAS_47342</td>\n",
       "      <td>1</td>\n",
       "    </tr>\n",
       "    <tr>\n",
       "      <th>3173379</th>\n",
       "      <td>{'aeid': 2533, 'casn': 'NOCAS_47353'}</td>\n",
       "      <td>2533</td>\n",
       "      <td>NOCAS_47353</td>\n",
       "      <td>1</td>\n",
       "    </tr>\n",
       "    <tr>\n",
       "      <th>3173380</th>\n",
       "      <td>{'aeid': 2533, 'casn': 'NOCAS_47377'}</td>\n",
       "      <td>2533</td>\n",
       "      <td>NOCAS_47377</td>\n",
       "      <td>1</td>\n",
       "    </tr>\n",
       "    <tr>\n",
       "      <th>3173381</th>\n",
       "      <td>{'aeid': 2533, 'casn': 'NOCAS_47387'}</td>\n",
       "      <td>2533</td>\n",
       "      <td>NOCAS_47387</td>\n",
       "      <td>0</td>\n",
       "    </tr>\n",
       "    <tr>\n",
       "      <th>3173382</th>\n",
       "      <td>{'aeid': 2533, 'casn': 'NOCAS_48522'}</td>\n",
       "      <td>2533</td>\n",
       "      <td>NOCAS_48522</td>\n",
       "      <td>1</td>\n",
       "    </tr>\n",
       "  </tbody>\n",
       "</table>\n",
       "<p>3173383 rows × 4 columns</p>\n",
       "</div>"
      ],
      "text/plain": [
       "                                           _id  aeid         casn  hitc\n",
       "0              {'aeid': 2, 'casn': '100-00-5'}     2     100-00-5     0\n",
       "1              {'aeid': 2, 'casn': '100-01-6'}     2     100-01-6     0\n",
       "2              {'aeid': 2, 'casn': '100-02-7'}     2     100-02-7     0\n",
       "3              {'aeid': 2, 'casn': '100-06-1'}     2     100-06-1     1\n",
       "4              {'aeid': 2, 'casn': '100-10-7'}     2     100-10-7     0\n",
       "...                                        ...   ...          ...   ...\n",
       "3173378  {'aeid': 2533, 'casn': 'NOCAS_47342'}  2533  NOCAS_47342     1\n",
       "3173379  {'aeid': 2533, 'casn': 'NOCAS_47353'}  2533  NOCAS_47353     1\n",
       "3173380  {'aeid': 2533, 'casn': 'NOCAS_47377'}  2533  NOCAS_47377     1\n",
       "3173381  {'aeid': 2533, 'casn': 'NOCAS_47387'}  2533  NOCAS_47387     0\n",
       "3173382  {'aeid': 2533, 'casn': 'NOCAS_48522'}  2533  NOCAS_48522     1\n",
       "\n",
       "[3173383 rows x 4 columns]"
      ]
     },
     "execution_count": 2,
     "metadata": {},
     "output_type": "execute_result"
    }
   ],
   "source": [
    "hit_calls"
   ]
  },
  {
   "cell_type": "markdown",
   "id": "4ab92210-fa76-4c91-a33c-059f6a7417ae",
   "metadata": {},
   "source": [
    "Just get the compounds that have data for the target endpoints of interest, i.e., the human hc, animal hc, etc.  Merge this with their hit calls from the Tox21/ToxCast data."
   ]
  },
  {
   "cell_type": "code",
   "execution_count": 5,
   "id": "0427aff2-9d73-43b8-a744-38ed86771ed7",
   "metadata": {},
   "outputs": [],
   "source": [
    "target_endpoints = ['human_hb', 'human_hc']"
   ]
  },
  {
   "cell_type": "code",
   "execution_count": 6,
   "id": "7fc60731-0d81-4665-be7e-ac1f1e347742",
   "metadata": {},
   "outputs": [
    {
     "data": {
      "text/html": [
       "<div>\n",
       "<style scoped>\n",
       "    .dataframe tbody tr th:only-of-type {\n",
       "        vertical-align: middle;\n",
       "    }\n",
       "\n",
       "    .dataframe tbody tr th {\n",
       "        vertical-align: top;\n",
       "    }\n",
       "\n",
       "    .dataframe thead th {\n",
       "        text-align: right;\n",
       "    }\n",
       "</style>\n",
       "<table border=\"1\" class=\"dataframe\">\n",
       "  <thead>\n",
       "    <tr style=\"text-align: right;\">\n",
       "      <th></th>\n",
       "      <th>rdkitInChIClean</th>\n",
       "      <th>casn</th>\n",
       "      <th>DILIRank_call</th>\n",
       "      <th>linlin_call</th>\n",
       "      <th>H_HT_class</th>\n",
       "      <th>PC_CCHC_class</th>\n",
       "      <th>PC_CC_class</th>\n",
       "      <th>PC_HT_class</th>\n",
       "      <th>PC_MFHC_class</th>\n",
       "      <th>PC_MF_class</th>\n",
       "      <th>...</th>\n",
       "      <th>PC_HTdl500_class</th>\n",
       "      <th>PC_MFHB_class</th>\n",
       "      <th>PC_MFHBdl500_class</th>\n",
       "      <th>PC_MFHCdl500_class</th>\n",
       "      <th>PC_MFdl500_class</th>\n",
       "      <th>human_hb</th>\n",
       "      <th>animal_hb</th>\n",
       "      <th>animal_dl500_hb</th>\n",
       "      <th>human_hc</th>\n",
       "      <th>animal_dl500_hc</th>\n",
       "    </tr>\n",
       "  </thead>\n",
       "  <tbody>\n",
       "    <tr>\n",
       "      <th>0</th>\n",
       "      <td>InChI=1S/2Bi.3O</td>\n",
       "      <td>1304-76-3</td>\n",
       "      <td>NaN</td>\n",
       "      <td>NaN</td>\n",
       "      <td>NaN</td>\n",
       "      <td>NaN</td>\n",
       "      <td>NaN</td>\n",
       "      <td>NaN</td>\n",
       "      <td>NaN</td>\n",
       "      <td>NaN</td>\n",
       "      <td>...</td>\n",
       "      <td>NaN</td>\n",
       "      <td>NaN</td>\n",
       "      <td>NaN</td>\n",
       "      <td>NaN</td>\n",
       "      <td>NaN</td>\n",
       "      <td>NaN</td>\n",
       "      <td>NaN</td>\n",
       "      <td>NaN</td>\n",
       "      <td>NaN</td>\n",
       "      <td>NaN</td>\n",
       "    </tr>\n",
       "    <tr>\n",
       "      <th>1</th>\n",
       "      <td>InChI=1S/2BrH.Ca/h2*1H;/q;;+2/p-2</td>\n",
       "      <td>7789-41-5</td>\n",
       "      <td>NaN</td>\n",
       "      <td>NaN</td>\n",
       "      <td>NaN</td>\n",
       "      <td>NaN</td>\n",
       "      <td>NaN</td>\n",
       "      <td>NaN</td>\n",
       "      <td>NaN</td>\n",
       "      <td>NaN</td>\n",
       "      <td>...</td>\n",
       "      <td>NaN</td>\n",
       "      <td>NaN</td>\n",
       "      <td>NaN</td>\n",
       "      <td>NaN</td>\n",
       "      <td>NaN</td>\n",
       "      <td>NaN</td>\n",
       "      <td>NaN</td>\n",
       "      <td>NaN</td>\n",
       "      <td>NaN</td>\n",
       "      <td>NaN</td>\n",
       "    </tr>\n",
       "    <tr>\n",
       "      <th>2</th>\n",
       "      <td>InChI=1S/2C10H19NO5/c2*1-10(2,6-12)8(15)9(16)1...</td>\n",
       "      <td>17097-76-6</td>\n",
       "      <td>NaN</td>\n",
       "      <td>NaN</td>\n",
       "      <td>NaN</td>\n",
       "      <td>NaN</td>\n",
       "      <td>NaN</td>\n",
       "      <td>NaN</td>\n",
       "      <td>NaN</td>\n",
       "      <td>NaN</td>\n",
       "      <td>...</td>\n",
       "      <td>NaN</td>\n",
       "      <td>NaN</td>\n",
       "      <td>NaN</td>\n",
       "      <td>NaN</td>\n",
       "      <td>NaN</td>\n",
       "      <td>NaN</td>\n",
       "      <td>NaN</td>\n",
       "      <td>NaN</td>\n",
       "      <td>NaN</td>\n",
       "      <td>NaN</td>\n",
       "    </tr>\n",
       "    <tr>\n",
       "      <th>3</th>\n",
       "      <td>InChI=1S/2C12H24O2.2C4H9.Sn/c2*1-2-3-4-5-6-7-8...</td>\n",
       "      <td>77-58-7</td>\n",
       "      <td>NaN</td>\n",
       "      <td>NaN</td>\n",
       "      <td>NaN</td>\n",
       "      <td>NaN</td>\n",
       "      <td>NaN</td>\n",
       "      <td>NaN</td>\n",
       "      <td>NaN</td>\n",
       "      <td>NaN</td>\n",
       "      <td>...</td>\n",
       "      <td>NaN</td>\n",
       "      <td>NaN</td>\n",
       "      <td>NaN</td>\n",
       "      <td>NaN</td>\n",
       "      <td>NaN</td>\n",
       "      <td>NaN</td>\n",
       "      <td>NaN</td>\n",
       "      <td>NaN</td>\n",
       "      <td>NaN</td>\n",
       "      <td>NaN</td>\n",
       "    </tr>\n",
       "    <tr>\n",
       "      <th>4</th>\n",
       "      <td>InChI=1S/2C2H4O2.Al.H2O/c2*1-2(3)4;;/h2*1H3,(H...</td>\n",
       "      <td>142-03-0</td>\n",
       "      <td>NaN</td>\n",
       "      <td>NaN</td>\n",
       "      <td>NaN</td>\n",
       "      <td>NaN</td>\n",
       "      <td>NaN</td>\n",
       "      <td>NaN</td>\n",
       "      <td>NaN</td>\n",
       "      <td>NaN</td>\n",
       "      <td>...</td>\n",
       "      <td>NaN</td>\n",
       "      <td>NaN</td>\n",
       "      <td>NaN</td>\n",
       "      <td>NaN</td>\n",
       "      <td>NaN</td>\n",
       "      <td>NaN</td>\n",
       "      <td>NaN</td>\n",
       "      <td>NaN</td>\n",
       "      <td>NaN</td>\n",
       "      <td>NaN</td>\n",
       "    </tr>\n",
       "  </tbody>\n",
       "</table>\n",
       "<p>5 rows × 31 columns</p>\n",
       "</div>"
      ],
      "text/plain": [
       "                                     rdkitInChIClean        casn  \\\n",
       "0                                    InChI=1S/2Bi.3O   1304-76-3   \n",
       "1                  InChI=1S/2BrH.Ca/h2*1H;/q;;+2/p-2   7789-41-5   \n",
       "2  InChI=1S/2C10H19NO5/c2*1-10(2,6-12)8(15)9(16)1...  17097-76-6   \n",
       "3  InChI=1S/2C12H24O2.2C4H9.Sn/c2*1-2-3-4-5-6-7-8...     77-58-7   \n",
       "4  InChI=1S/2C2H4O2.Al.H2O/c2*1-2(3)4;;/h2*1H3,(H...    142-03-0   \n",
       "\n",
       "   DILIRank_call  linlin_call  H_HT_class  PC_CCHC_class  PC_CC_class  \\\n",
       "0            NaN          NaN         NaN            NaN          NaN   \n",
       "1            NaN          NaN         NaN            NaN          NaN   \n",
       "2            NaN          NaN         NaN            NaN          NaN   \n",
       "3            NaN          NaN         NaN            NaN          NaN   \n",
       "4            NaN          NaN         NaN            NaN          NaN   \n",
       "\n",
       "   PC_HT_class  PC_MFHC_class  PC_MF_class  ...  PC_HTdl500_class  \\\n",
       "0          NaN            NaN          NaN  ...               NaN   \n",
       "1          NaN            NaN          NaN  ...               NaN   \n",
       "2          NaN            NaN          NaN  ...               NaN   \n",
       "3          NaN            NaN          NaN  ...               NaN   \n",
       "4          NaN            NaN          NaN  ...               NaN   \n",
       "\n",
       "   PC_MFHB_class  PC_MFHBdl500_class  PC_MFHCdl500_class  PC_MFdl500_class  \\\n",
       "0            NaN                 NaN                 NaN               NaN   \n",
       "1            NaN                 NaN                 NaN               NaN   \n",
       "2            NaN                 NaN                 NaN               NaN   \n",
       "3            NaN                 NaN                 NaN               NaN   \n",
       "4            NaN                 NaN                 NaN               NaN   \n",
       "\n",
       "   human_hb  animal_hb  animal_dl500_hb  human_hc  animal_dl500_hc  \n",
       "0       NaN        NaN              NaN       NaN              NaN  \n",
       "1       NaN        NaN              NaN       NaN              NaN  \n",
       "2       NaN        NaN              NaN       NaN              NaN  \n",
       "3       NaN        NaN              NaN       NaN              NaN  \n",
       "4       NaN        NaN              NaN       NaN              NaN  \n",
       "\n",
       "[5 rows x 31 columns]"
      ]
     },
     "execution_count": 6,
     "metadata": {},
     "output_type": "execute_result"
    }
   ],
   "source": [
    "liver_data_df = pd.DataFrame(client.LiverToxCast.modeling_set.find({}, {\"_id\":0, \"CASRN\": 0}))\n",
    "modeling_set.head()"
   ]
  },
  {
   "cell_type": "code",
   "execution_count": 7,
   "id": "d410deb4-fb54-4e03-8357-ae62a1a39637",
   "metadata": {},
   "outputs": [],
   "source": [
    "mulliner_cmps = liver_data_df[['casn'] + target_endpoints]\n",
    "mulliner_cmps = mulliner_cmps[mulliner_cmps[target_endpoints].notnull().any(1)]"
   ]
  },
  {
   "cell_type": "code",
   "execution_count": 8,
   "id": "34e383bf-0bba-45c0-bfa4-d466bf8f2379",
   "metadata": {},
   "outputs": [
    {
     "data": {
      "text/html": [
       "<div>\n",
       "<style scoped>\n",
       "    .dataframe tbody tr th:only-of-type {\n",
       "        vertical-align: middle;\n",
       "    }\n",
       "\n",
       "    .dataframe tbody tr th {\n",
       "        vertical-align: top;\n",
       "    }\n",
       "\n",
       "    .dataframe thead th {\n",
       "        text-align: right;\n",
       "    }\n",
       "</style>\n",
       "<table border=\"1\" class=\"dataframe\">\n",
       "  <thead>\n",
       "    <tr style=\"text-align: right;\">\n",
       "      <th></th>\n",
       "      <th>aeid</th>\n",
       "      <th>casn</th>\n",
       "      <th>hitc</th>\n",
       "      <th>human_hb</th>\n",
       "      <th>human_hc</th>\n",
       "    </tr>\n",
       "  </thead>\n",
       "  <tbody>\n",
       "    <tr>\n",
       "      <th>0</th>\n",
       "      <td>2</td>\n",
       "      <td>100-51-6</td>\n",
       "      <td>0</td>\n",
       "      <td>0.0</td>\n",
       "      <td>0.0</td>\n",
       "    </tr>\n",
       "    <tr>\n",
       "      <th>1</th>\n",
       "      <td>23</td>\n",
       "      <td>100-51-6</td>\n",
       "      <td>0</td>\n",
       "      <td>0.0</td>\n",
       "      <td>0.0</td>\n",
       "    </tr>\n",
       "    <tr>\n",
       "      <th>2</th>\n",
       "      <td>24</td>\n",
       "      <td>100-51-6</td>\n",
       "      <td>0</td>\n",
       "      <td>0.0</td>\n",
       "      <td>0.0</td>\n",
       "    </tr>\n",
       "    <tr>\n",
       "      <th>3</th>\n",
       "      <td>25</td>\n",
       "      <td>100-51-6</td>\n",
       "      <td>0</td>\n",
       "      <td>0.0</td>\n",
       "      <td>0.0</td>\n",
       "    </tr>\n",
       "    <tr>\n",
       "      <th>4</th>\n",
       "      <td>26</td>\n",
       "      <td>100-51-6</td>\n",
       "      <td>0</td>\n",
       "      <td>0.0</td>\n",
       "      <td>0.0</td>\n",
       "    </tr>\n",
       "    <tr>\n",
       "      <th>...</th>\n",
       "      <td>...</td>\n",
       "      <td>...</td>\n",
       "      <td>...</td>\n",
       "      <td>...</td>\n",
       "      <td>...</td>\n",
       "    </tr>\n",
       "    <tr>\n",
       "      <th>457699</th>\n",
       "      <td>2452</td>\n",
       "      <td>59-43-8</td>\n",
       "      <td>0</td>\n",
       "      <td>0.0</td>\n",
       "      <td>0.0</td>\n",
       "    </tr>\n",
       "    <tr>\n",
       "      <th>457700</th>\n",
       "      <td>2453</td>\n",
       "      <td>59-43-8</td>\n",
       "      <td>0</td>\n",
       "      <td>0.0</td>\n",
       "      <td>0.0</td>\n",
       "    </tr>\n",
       "    <tr>\n",
       "      <th>457701</th>\n",
       "      <td>2451</td>\n",
       "      <td>91714-94-2</td>\n",
       "      <td>0</td>\n",
       "      <td>1.0</td>\n",
       "      <td>1.0</td>\n",
       "    </tr>\n",
       "    <tr>\n",
       "      <th>457702</th>\n",
       "      <td>2452</td>\n",
       "      <td>91714-94-2</td>\n",
       "      <td>0</td>\n",
       "      <td>1.0</td>\n",
       "      <td>1.0</td>\n",
       "    </tr>\n",
       "    <tr>\n",
       "      <th>457703</th>\n",
       "      <td>2453</td>\n",
       "      <td>91714-94-2</td>\n",
       "      <td>0</td>\n",
       "      <td>1.0</td>\n",
       "      <td>1.0</td>\n",
       "    </tr>\n",
       "  </tbody>\n",
       "</table>\n",
       "<p>457704 rows × 5 columns</p>\n",
       "</div>"
      ],
      "text/plain": [
       "        aeid        casn  hitc  human_hb  human_hc\n",
       "0          2    100-51-6     0       0.0       0.0\n",
       "1         23    100-51-6     0       0.0       0.0\n",
       "2         24    100-51-6     0       0.0       0.0\n",
       "3         25    100-51-6     0       0.0       0.0\n",
       "4         26    100-51-6     0       0.0       0.0\n",
       "...      ...         ...   ...       ...       ...\n",
       "457699  2452     59-43-8     0       0.0       0.0\n",
       "457700  2453     59-43-8     0       0.0       0.0\n",
       "457701  2451  91714-94-2     0       1.0       1.0\n",
       "457702  2452  91714-94-2     0       1.0       1.0\n",
       "457703  2453  91714-94-2     0       1.0       1.0\n",
       "\n",
       "[457704 rows x 5 columns]"
      ]
     },
     "execution_count": 8,
     "metadata": {},
     "output_type": "execute_result"
    }
   ],
   "source": [
    "fisher_test_frame = hit_calls[['aeid', 'casn', 'hitc']].merge(mulliner_cmps)\n",
    "fisher_test_frame"
   ]
  },
  {
   "cell_type": "markdown",
   "id": "2628980c-194b-49cc-b26b-8045acc7f658",
   "metadata": {},
   "source": [
    "Create a dataframe of contigency tables, delineating the number of active/tox, active/non-tox etc. for each endpoint and for each ToxCast aeid. "
   ]
  },
  {
   "cell_type": "code",
   "execution_count": 9,
   "id": "feeea2ff-e3bd-49d2-a56b-aa705b91434e",
   "metadata": {},
   "outputs": [],
   "source": [
    "contingency_tables = []\n",
    "for endpoint in target_endpoints:\n",
    "    for aeid, aeid_data in fisher_test_frame.groupby('aeid'):\n",
    "        active_with_endpoint = ((aeid_data.hitc == 1) & (aeid_data[endpoint] == 1)).sum()\n",
    "        active_without_endpoint = ((aeid_data.hitc == 1) & (aeid_data[endpoint] == 0)).sum()\n",
    "\n",
    "        inactive_with_endpoint = ((aeid_data.hitc == 0) & (aeid_data[endpoint] == 1)).sum()\n",
    "        inactive_without_endpoint = ((aeid_data.hitc == 0) & (aeid_data[endpoint] == 0)).sum()\n",
    "        contingency_tables.append([endpoint, aeid, active_with_endpoint, active_without_endpoint, inactive_with_endpoint, inactive_without_endpoint])\n",
    "contingency_tables = pd.DataFrame(contingency_tables) \n",
    "contingency_tables.columns = ['endpoint', 'aeid', 'active_tox', 'active_nontox', 'inactive_tox', 'inactive_nontox']"
   ]
  },
  {
   "cell_type": "markdown",
   "id": "f54db395-22a1-4b44-874a-66e4a6020545",
   "metadata": {},
   "source": [
    "### fisher's exact test\n",
    "\n",
    "Contingency looks like this \n",
    "\n",
    " \n",
    " $$\\begin{pmatrix}active tox & inactive tox\\\\\\ active non tox & inactive nontox\\end{pmatrix}$$\n",
    "\n",
    "I am only looking for those with a greater response.  Reference for the test: https://docs.scipy.org/doc/scipy/reference/generated/scipy.stats.fisher_exact.html\n"
   ]
  },
  {
   "cell_type": "code",
   "execution_count": 10,
   "id": "269d970b-446b-44ec-bb8d-2c79dda20cfc",
   "metadata": {},
   "outputs": [],
   "source": [
    "from scipy.stats import fisher_exact"
   ]
  },
  {
   "cell_type": "code",
   "execution_count": 11,
   "id": "eba0872b-640d-473f-8f37-90ef81aeffa2",
   "metadata": {},
   "outputs": [],
   "source": [
    "fisher_results = []\n",
    "for (ep, aeid), data in contingency_tables.groupby(['endpoint', 'aeid']):\n",
    "    'active_tox', 'active_nontox', 'inactive_tox', 'inactive_nontox'\n",
    "    ct = [\n",
    "        [data.active_tox.iloc[0], data.active_nontox.iloc[0]],\n",
    "        [data.inactive_tox.iloc[0], data.inactive_nontox.iloc[0]]\n",
    "    ]\n",
    "    \n",
    "    odds, pvalue = fisher_exact(ct, alternative='greater')\n",
    "    fisher_results.append([ep, aeid, pvalue, odds])\n",
    "fisher_results = pd.DataFrame(fisher_results)\n",
    "fisher_results.columns = ['endpoint', 'aeid', 'pvalue', 'odds']"
   ]
  },
  {
   "cell_type": "markdown",
   "id": "15e93f0f-f992-4fce-a340-6a13f8d77f8a",
   "metadata": {},
   "source": [
    "### P-value Distribution"
   ]
  },
  {
   "cell_type": "code",
   "execution_count": 12,
   "id": "21069d5b-ee21-4c40-a9a0-afb45602737b",
   "metadata": {},
   "outputs": [
    {
     "data": {
      "text/plain": [
       "<matplotlib.axes._subplots.AxesSubplot at 0x7f836ca2d0d0>"
      ]
     },
     "execution_count": 12,
     "metadata": {},
     "output_type": "execute_result"
    },
    {
     "data": {
      "image/png": "[encoded data removed]",
      "text/plain": [
       "<Figure size 432x288 with 1 Axes>"
      ]
     },
     "metadata": {
      "needs_background": "light"
     },
     "output_type": "display_data"
    }
   ],
   "source": [
    "import numpy as np\n",
    "\n",
    "fisher_results.pvalue.hist(bins=75)"
   ]
  },
  {
   "cell_type": "markdown",
   "id": "670bc935-a76f-4403-a752-2673fe8ff59c",
   "metadata": {},
   "source": [
    "## Correct for multiple hypotheses\n",
    "\n",
    "Correct using the benjamini-hockenburg procedure as described in Section 13 in Introduction to Statistical Learning.\n",
    "\n",
    "Sort all pvalues and assign a rank -> j.  Calculate the critical threshold as $qj/m$, where $q$ is the desired false discovery rate and $m$ is the number of pvalues.  Find L, which is the max rank the meets the criteria that the pvalue at that rank is less than the critical threshold. Note: there could be pvalues greater than the critical threshold less than the rank.  Accept all pvalues with a rank less than $L$.\n",
    "\n",
    "$L = max(\\{p(j) < qj/m\\})$"
   ]
  },
  {
   "cell_type": "code",
   "execution_count": 13,
   "id": "d4075910-763b-4c79-9f0c-2d25024892bb",
   "metadata": {},
   "outputs": [],
   "source": [
    "pd.options.mode.chained_assignment = None  # default='warn'"
   ]
  },
  {
   "cell_type": "code",
   "execution_count": 14,
   "id": "a8e2959e-a1f7-4e19-863d-bd6e3be831a1",
   "metadata": {},
   "outputs": [],
   "source": [
    "results = fisher_results.merge(contingency_tables).sort_values('pvalue')\n",
    "\n",
    "corrected_results = []\n",
    "\n",
    "alpha = 0.15\n",
    "\n",
    "for endpoint, result in results.groupby('endpoint'):\n",
    "\n",
    "    result.sort_values('pvalue', inplace=True)\n",
    "    result['Rank'] = list(range(1, result.shape[0]+1))\n",
    "    \n",
    "\n",
    "    result['b-h_threshold'.format(alpha)] = alpha*result.Rank/result.shape[0]\n",
    "    L = result[result['b-h_threshold'] > result.pvalue].Rank.max()\n",
    "    corrected_results.append(result[result.Rank <= L])\n",
    "        \n",
    "corrected_results = pd.concat(corrected_results)"
   ]
  },
  {
   "cell_type": "markdown",
   "id": "3c42afcc-cacb-4086-a992-738e732aa7d3",
   "metadata": {},
   "source": [
    "## Merge with gene_target_info"
   ]
  },
  {
   "cell_type": "code",
   "execution_count": 15,
   "id": "5fb128b6-800a-42f2-a2f1-5a98eede88d3",
   "metadata": {},
   "outputs": [],
   "source": [
    "aeid_info = pd.DataFrame(client.LiverToxCast.aeid_info.find({},\n",
    "                                                            {'_id': 0, 'aeid':1, 'assay_component_endpoint_name':1,\n",
    "                                                             'assay_function_type': 1, 'intended_target_family_sub': 1}))\n",
    "gene_target_info = pd.DataFrame(client.LiverToxCast.gene_target.find({},\n",
    "                                                            {'_id': 0, 'aeid':1, 'official_symbol':1,\n",
    "                                                             'organism_id': 1, 'source': 1}))"
   ]
  },
  {
   "cell_type": "code",
   "execution_count": 16,
   "id": "65c1e51e-c4e1-48bf-8588-1f0df8132469",
   "metadata": {},
   "outputs": [],
   "source": [
    "all_data = corrected_results.merge(aeid_info, how='left', on='aeid').merge(gene_target_info, how='left', on='aeid')"
   ]
  },
  {
   "cell_type": "code",
   "execution_count": 17,
   "id": "c37d31cb-3d5f-4a95-9619-1c0f195e4ebd",
   "metadata": {},
   "outputs": [
    {
     "name": "stdout",
     "output_type": "stream",
     "text": [
      "human_hb (153, 16) 148\n",
      "human_hc (36, 16) 36\n"
     ]
    }
   ],
   "source": [
    "grped = all_data.groupby('endpoint')\n",
    "\n",
    "for ep, data in grped:\n",
    "    print(ep, data.shape, data.aeid.nunique())"
   ]
  },
  {
   "cell_type": "code",
   "execution_count": 18,
   "id": "519f927a-5464-4164-8e0f-7b01edeed77b",
   "metadata": {},
   "outputs": [
    {
     "data": {
      "text/plain": [
       "<pymongo.results.InsertManyResult at 0x7f8356af59b0>"
      ]
     },
     "execution_count": 18,
     "metadata": {},
     "output_type": "execute_result"
    }
   ],
   "source": [
    "pvalue_con = client.LiverToxCast.endpoint_aeid_pvalues2\n",
    "\n",
    "\n",
    "records = [v.dropna().to_dict() for k,v in all_data.iterrows()]\n",
    "    \n",
    "pvalue_con.insert_many(records)"
   ]
  },
  {
   "cell_type": "code",
   "execution_count": 19,
   "id": "52664de8-9c0c-41e1-ab81-43caa7764d05",
   "metadata": {},
   "outputs": [
    {
     "data": {
      "text/plain": [
       "189"
      ]
     },
     "execution_count": 19,
     "metadata": {},
     "output_type": "execute_result"
    }
   ],
   "source": [
    "len(records)"
   ]
  },
  {
   "cell_type": "markdown",
   "id": "e0c895c0-4295-4d10-89b9-f15ec0eae596",
   "metadata": {},
   "source": [
    "correcetd plot"
   ]
  }
 ],
 "metadata": {
  "kernelspec": {
   "display_name": "Python 3 (ipykernel)",
   "language": "python",
   "name": "python3"
  },
  "language_info": {
   "codemirror_mode": {
    "name": "ipython",
    "version": 3
   },
   "file_extension": ".py",
   "mimetype": "text/x-python",
   "name": "python",
   "nbconvert_exporter": "python",
   "pygments_lexer": "ipython3",
   "version": "3.7.10"
  }
 },
 "nbformat": 4,
 "nbformat_minor": 5
}
