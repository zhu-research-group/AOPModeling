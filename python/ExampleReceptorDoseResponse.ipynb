{
 "cells": [
  {
   "cell_type": "markdown",
   "id": "bb3a29d9-7ac3-4bed-8348-c264ce6519b9",
   "metadata": {},
   "source": [
    "# Plotting Receptor Dose Response\n",
    "\n",
    "This notebook is just for plotting an example \"receptor\" dose response. \n",
    "\n"
   ]
  },
  {
   "cell_type": "code",
   "execution_count": 75,
   "id": "0c0593e7-caa4-4078-8dcd-fdd2007abbb5",
   "metadata": {},
   "outputs": [],
   "source": [
    "TARGET_RECEPTOR_TO_PLOT = 'TP53'\n",
    "ENDPOINTS = ['human_hc', 'human_hb']\n",
    "org = \"human\""
   ]
  },
  {
   "cell_type": "code",
   "execution_count": 76,
   "id": "d295388b-9ea1-48cf-b314-228bb96d02ac",
   "metadata": {},
   "outputs": [],
   "source": [
    "import pandas as pd, numpy as np\n",
    "import pymongo\n",
    "\n",
    "client = pymongo.MongoClient()\n",
    "\n",
    "pipe = [\n",
    "    {\"$match\": {\"$and\": [{\"_id.type\": org},  {\"_id.aop\": TARGET_RECEPTOR_TO_PLOT}]}},\n",
    "    { \"$project\": {\n",
    "        \"_id\": 0, \n",
    "        \"mechanism\": \"$_id.mechanism\",\n",
    "        \"receptor\": \"$_id.aop\",\n",
    "        \"casn\": \"$_id.casn\",\n",
    "        \"auc_score\": \"$auc_norm\",\n",
    "        \"receptor_conc_score\": \"$responses_norm\",\n",
    "         \"conc\": \"$concentrations\"\n",
    "    }}\n",
    "]\n",
    "receptor_scores = pd.DataFrame(list(client.LiverToxCast.ke_models.aggregate(pipe)))\n",
    "\n",
    "\n",
    "\n",
    "pipe = [\n",
    "    {\"$match\": {\"mechanism_group2\": TARGET_RECEPTOR_TO_PLOT}},\n",
    "    {\"$match\": {\"endpoint\": {'$in': ENDPOINTS}}},\n",
    "    {\n",
    "        \"$project\": {\n",
    "            \"aeid\": \"$aeid\",\n",
    "            \"mechanism\": \"$mechanism_group\",\n",
    "            \"_id\": 0\n",
    "        }\n",
    "    }\n",
    "]\n",
    "\n",
    "\n",
    "receptor_aeids = pd.DataFrame(client.LiverToxCast.endpoint_aeid_pvalues.aggregate(pipe)).drop_duplicates()\n",
    "\n",
    "\n"
   ]
  },
  {
   "cell_type": "code",
   "execution_count": 77,
   "id": "2fd1153d-b018-40fd-9fad-56d926e4da17",
   "metadata": {},
   "outputs": [
    {
     "data": {
      "text/html": [
       "<div>\n",
       "<style scoped>\n",
       "    .dataframe tbody tr th:only-of-type {\n",
       "        vertical-align: middle;\n",
       "    }\n",
       "\n",
       "    .dataframe tbody tr th {\n",
       "        vertical-align: top;\n",
       "    }\n",
       "\n",
       "    .dataframe thead th {\n",
       "        text-align: right;\n",
       "    }\n",
       "</style>\n",
       "<table border=\"1\" class=\"dataframe\">\n",
       "  <thead>\n",
       "    <tr style=\"text-align: right;\">\n",
       "      <th></th>\n",
       "      <th>receptor</th>\n",
       "      <th>casn</th>\n",
       "      <th>auc_score</th>\n",
       "      <th>receptor_conc_score</th>\n",
       "      <th>conc</th>\n",
       "    </tr>\n",
       "  </thead>\n",
       "  <tbody>\n",
       "    <tr>\n",
       "      <th>0</th>\n",
       "      <td>TP53</td>\n",
       "      <td>100-00-5</td>\n",
       "      <td>0.000000</td>\n",
       "      <td>[1.1787350651104589e-08, -1.715581099404062e-0...</td>\n",
       "      <td>[1e-06, 2.679636e-06, 4.019455e-06, 6.029182e-...</td>\n",
       "    </tr>\n",
       "    <tr>\n",
       "      <th>1</th>\n",
       "      <td>TP53</td>\n",
       "      <td>100-01-6</td>\n",
       "      <td>0.000000</td>\n",
       "      <td>[-9.675206058545882e-08, -2.0505508402379746e-...</td>\n",
       "      <td>[1e-06, 2.679636e-06, 4.019455e-06, 6.029182e-...</td>\n",
       "    </tr>\n",
       "    <tr>\n",
       "      <th>2</th>\n",
       "      <td>TP53</td>\n",
       "      <td>100-02-7</td>\n",
       "      <td>0.005102</td>\n",
       "      <td>[-1.0296919761287882e-08, 5.827286599924264e-0...</td>\n",
       "      <td>[1e-06, 2.679636e-06, 4.019455e-06, 6.029182e-...</td>\n",
       "    </tr>\n",
       "    <tr>\n",
       "      <th>3</th>\n",
       "      <td>TP53</td>\n",
       "      <td>100-06-1</td>\n",
       "      <td>-0.000000</td>\n",
       "      <td>[-1.559413398410925e-08, -1.2591253373273048e-...</td>\n",
       "      <td>[1e-06, 2.679636e-06, 4.019455e-06, 6.029182e-...</td>\n",
       "    </tr>\n",
       "    <tr>\n",
       "      <th>4</th>\n",
       "      <td>TP53</td>\n",
       "      <td>100-10-7</td>\n",
       "      <td>-0.000000</td>\n",
       "      <td>[1.6672640157366914e-08, -5.110838330324441e-0...</td>\n",
       "      <td>[1e-06, 2.679636e-06, 4.019455e-06, 6.029182e-...</td>\n",
       "    </tr>\n",
       "  </tbody>\n",
       "</table>\n",
       "</div>"
      ],
      "text/plain": [
       "  receptor      casn  auc_score  \\\n",
       "0     TP53  100-00-5   0.000000   \n",
       "1     TP53  100-01-6   0.000000   \n",
       "2     TP53  100-02-7   0.005102   \n",
       "3     TP53  100-06-1  -0.000000   \n",
       "4     TP53  100-10-7  -0.000000   \n",
       "\n",
       "                                 receptor_conc_score  \\\n",
       "0  [1.1787350651104589e-08, -1.715581099404062e-0...   \n",
       "1  [-9.675206058545882e-08, -2.0505508402379746e-...   \n",
       "2  [-1.0296919761287882e-08, 5.827286599924264e-0...   \n",
       "3  [-1.559413398410925e-08, -1.2591253373273048e-...   \n",
       "4  [1.6672640157366914e-08, -5.110838330324441e-0...   \n",
       "\n",
       "                                                conc  \n",
       "0  [1e-06, 2.679636e-06, 4.019455e-06, 6.029182e-...  \n",
       "1  [1e-06, 2.679636e-06, 4.019455e-06, 6.029182e-...  \n",
       "2  [1e-06, 2.679636e-06, 4.019455e-06, 6.029182e-...  \n",
       "3  [1e-06, 2.679636e-06, 4.019455e-06, 6.029182e-...  \n",
       "4  [1e-06, 2.679636e-06, 4.019455e-06, 6.029182e-...  "
      ]
     },
     "execution_count": 77,
     "metadata": {},
     "output_type": "execute_result"
    }
   ],
   "source": [
    "receptor_scores.head()"
   ]
  },
  {
   "cell_type": "code",
   "execution_count": 78,
   "id": "ecef92ba-9bbc-4b4e-858c-c205c729a44d",
   "metadata": {},
   "outputs": [],
   "source": [
    "casrns = receptor_scores.casn.tolist()\n",
    "\n",
    "dr_results  = list(client.LiverToxCast.best_models.find({'$and': [{'_id.aeid': {'$in': receptor_aeids.aeid.tolist()}}, \n",
    "                                            {'_id.casn': {'$in': casrns}}]}))\n",
    "\n",
    "\n",
    "reformat = [{'aeid': r['_id']['aeid'], 'casn': r['_id']['casn'], 'responses': r['responses']}\n",
    "           for r in dr_results]\n",
    "\n",
    "CONC_LIST = dr_results[0]['concentrations']\n",
    "cr_frame = pd.DataFrame(reformat)"
   ]
  },
  {
   "cell_type": "code",
   "execution_count": 79,
   "id": "4f272686-53c2-4191-9399-60980573e96e",
   "metadata": {},
   "outputs": [],
   "source": [
    "\n",
    "cr_frame['conc'] = [CONC_LIST for _ in range(len(cr_frame))]\n",
    "cr_frame = cr_frame.set_index(['aeid' , 'casn']).apply(pd.Series.explode).reset_index()\n",
    "\n",
    "\n",
    "max_responses = cr_frame.groupby('aeid').responses.max()\n",
    "\n",
    "for aeid, max_response in max_responses.iteritems():\n",
    "    cr_frame.loc[cr_frame.aeid == aeid, 'responses'] = cr_frame.loc[cr_frame.aeid == aeid, 'responses'] * (1/max_response)\n"
   ]
  },
  {
   "cell_type": "code",
   "execution_count": 80,
   "id": "6f2bd3f3-223e-4bfd-ab03-34aad2759d21",
   "metadata": {},
   "outputs": [
    {
     "data": {
      "text/html": [
       "<div>\n",
       "<style scoped>\n",
       "    .dataframe tbody tr th:only-of-type {\n",
       "        vertical-align: middle;\n",
       "    }\n",
       "\n",
       "    .dataframe tbody tr th {\n",
       "        vertical-align: top;\n",
       "    }\n",
       "\n",
       "    .dataframe thead th {\n",
       "        text-align: right;\n",
       "    }\n",
       "</style>\n",
       "<table border=\"1\" class=\"dataframe\">\n",
       "  <thead>\n",
       "    <tr style=\"text-align: right;\">\n",
       "      <th></th>\n",
       "      <th>aeid</th>\n",
       "      <th>casn</th>\n",
       "      <th>responses</th>\n",
       "      <th>conc</th>\n",
       "    </tr>\n",
       "  </thead>\n",
       "  <tbody>\n",
       "    <tr>\n",
       "      <th>0</th>\n",
       "      <td>60</td>\n",
       "      <td>100-01-6</td>\n",
       "      <td>0.0</td>\n",
       "      <td>0.000001</td>\n",
       "    </tr>\n",
       "    <tr>\n",
       "      <th>1</th>\n",
       "      <td>60</td>\n",
       "      <td>100-01-6</td>\n",
       "      <td>0.0</td>\n",
       "      <td>0.000003</td>\n",
       "    </tr>\n",
       "    <tr>\n",
       "      <th>2</th>\n",
       "      <td>60</td>\n",
       "      <td>100-01-6</td>\n",
       "      <td>0.0</td>\n",
       "      <td>0.000004</td>\n",
       "    </tr>\n",
       "    <tr>\n",
       "      <th>3</th>\n",
       "      <td>60</td>\n",
       "      <td>100-01-6</td>\n",
       "      <td>0.0</td>\n",
       "      <td>0.000006</td>\n",
       "    </tr>\n",
       "    <tr>\n",
       "      <th>4</th>\n",
       "      <td>60</td>\n",
       "      <td>100-01-6</td>\n",
       "      <td>0.0</td>\n",
       "      <td>0.000009</td>\n",
       "    </tr>\n",
       "  </tbody>\n",
       "</table>\n",
       "</div>"
      ],
      "text/plain": [
       "   aeid      casn responses      conc\n",
       "0    60  100-01-6       0.0  0.000001\n",
       "1    60  100-01-6       0.0  0.000003\n",
       "2    60  100-01-6       0.0  0.000004\n",
       "3    60  100-01-6       0.0  0.000006\n",
       "4    60  100-01-6       0.0  0.000009"
      ]
     },
     "execution_count": 80,
     "metadata": {},
     "output_type": "execute_result"
    }
   ],
   "source": [
    "cr_frame.head()"
   ]
  },
  {
   "cell_type": "code",
   "execution_count": 81,
   "id": "e87563cf-8a28-4907-8858-eb3669508fa5",
   "metadata": {},
   "outputs": [],
   "source": [
    "idx=98\n",
    "\n",
    "high_auc_casn = receptor_scores.sort_values('auc_score').iloc[-idx].casn\n",
    "high_auc_score = receptor_scores.sort_values('auc_score').iloc[-idx].auc_score\n",
    "best_receptor = receptor_scores[receptor_scores.casn == high_auc_casn]\n",
    "\n",
    "receptor_score = best_receptor[['receptor_conc_score', 'conc']].apply(pd.Series.explode)\n",
    "receptor_score.columns = ['Response', 'Concentration']\n",
    "\n",
    "for col in receptor_score.columns:\n",
    "    receptor_score[col] = receptor_score[col].astype(float)\n",
    "\n"
   ]
  },
  {
   "cell_type": "code",
   "execution_count": 82,
   "id": "e5dad5e0-853a-4bdd-8971-76e4948f0a87",
   "metadata": {},
   "outputs": [
    {
     "data": {
      "text/plain": [
       "'17406-45-0'"
      ]
     },
     "execution_count": 82,
     "metadata": {},
     "output_type": "execute_result"
    }
   ],
   "source": [
    "high_auc_casn"
   ]
  },
  {
   "cell_type": "code",
   "execution_count": 83,
   "id": "48cacc88-6f0c-4a3c-8c71-2b057c0afb9d",
   "metadata": {},
   "outputs": [
    {
     "name": "stderr",
     "output_type": "stream",
     "text": [
      "/opt/anaconda3/envs/toxcast/lib/python3.7/site-packages/ipykernel_launcher.py:4: FutureWarning: elementwise comparison failed; returning scalar instead, but in the future will perform elementwise comparison\n",
      "  after removing the cwd from sys.path.\n"
     ]
    }
   ],
   "source": [
    "    \n",
    "aeid_scores = cr_frame[cr_frame.casn == high_auc_casn]\n",
    "\n",
    "for aeid in receptor_aeids:\n",
    "    if aeid not in aeid_scores.aeid.values:\n",
    "        data = []\n",
    "        for conc in CONC_LIST:\n",
    "            row_data = [aeid, high_auc_casn, [0], conc]\n",
    "            df = pd.DataFrame(data =row_data).T\n",
    "            df.columns = aeid_scores.columns\n",
    "            aeid_scores = aeid_scores.append(df)\n",
    "\n",
    "\n",
    "# aeid_scores['conc'] = [CONC_LIST for _ in range(len(aeid_scores))]\n",
    "\n",
    "aeid_scores.columns = ['ToxCast/Tox21 Assay ID', 'CASRN', 'Response', 'Concentrations']\n",
    "# aeid_scores = aeid_scores.drop('CASRN', axis=1)\n",
    "\n",
    "aeid_scores = aeid_scores.set_index('ToxCast/Tox21 Assay ID').apply(pd.Series.explode).reset_index()\n",
    "for col in ['Response', 'Concentrations']:\n",
    "    aeid_scores[col] = aeid_scores[col].astype(float)\n"
   ]
  },
  {
   "cell_type": "code",
   "execution_count": 84,
   "id": "ed798afd-166b-432c-97b4-85c69fec6a1e",
   "metadata": {},
   "outputs": [
    {
     "data": {
      "text/html": [
       "<div>\n",
       "<style scoped>\n",
       "    .dataframe tbody tr th:only-of-type {\n",
       "        vertical-align: middle;\n",
       "    }\n",
       "\n",
       "    .dataframe tbody tr th {\n",
       "        vertical-align: top;\n",
       "    }\n",
       "\n",
       "    .dataframe thead th {\n",
       "        text-align: right;\n",
       "    }\n",
       "</style>\n",
       "<table border=\"1\" class=\"dataframe\">\n",
       "  <thead>\n",
       "    <tr style=\"text-align: right;\">\n",
       "      <th></th>\n",
       "      <th>ToxCast/Tox21 Assay ID</th>\n",
       "      <th>CASRN</th>\n",
       "      <th>Response</th>\n",
       "      <th>Concentrations</th>\n",
       "    </tr>\n",
       "  </thead>\n",
       "  <tbody>\n",
       "    <tr>\n",
       "      <th>0</th>\n",
       "      <td>1116</td>\n",
       "      <td>17406-45-0</td>\n",
       "      <td>1.642127e-08</td>\n",
       "      <td>0.000001</td>\n",
       "    </tr>\n",
       "    <tr>\n",
       "      <th>1</th>\n",
       "      <td>1116</td>\n",
       "      <td>17406-45-0</td>\n",
       "      <td>4.331246e-08</td>\n",
       "      <td>0.000003</td>\n",
       "    </tr>\n",
       "    <tr>\n",
       "      <th>2</th>\n",
       "      <td>1116</td>\n",
       "      <td>17406-45-0</td>\n",
       "      <td>6.454735e-08</td>\n",
       "      <td>0.000004</td>\n",
       "    </tr>\n",
       "    <tr>\n",
       "      <th>3</th>\n",
       "      <td>1116</td>\n",
       "      <td>17406-45-0</td>\n",
       "      <td>9.619306e-08</td>\n",
       "      <td>0.000006</td>\n",
       "    </tr>\n",
       "    <tr>\n",
       "      <th>4</th>\n",
       "      <td>1116</td>\n",
       "      <td>17406-45-0</td>\n",
       "      <td>1.433538e-07</td>\n",
       "      <td>0.000009</td>\n",
       "    </tr>\n",
       "  </tbody>\n",
       "</table>\n",
       "</div>"
      ],
      "text/plain": [
       "  ToxCast/Tox21 Assay ID       CASRN      Response  Concentrations\n",
       "0                   1116  17406-45-0  1.642127e-08        0.000001\n",
       "1                   1116  17406-45-0  4.331246e-08        0.000003\n",
       "2                   1116  17406-45-0  6.454735e-08        0.000004\n",
       "3                   1116  17406-45-0  9.619306e-08        0.000006\n",
       "4                   1116  17406-45-0  1.433538e-07        0.000009"
      ]
     },
     "execution_count": 84,
     "metadata": {},
     "output_type": "execute_result"
    }
   ],
   "source": [
    "aeid_scores.head()"
   ]
  },
  {
   "cell_type": "code",
   "execution_count": 85,
   "id": "ffd1f368-da48-426d-8faf-c24184ab25c0",
   "metadata": {},
   "outputs": [],
   "source": [
    "aeid_scores = aeid_scores[~aeid_scores['ToxCast/Tox21 Assay ID'].isin(['mechanism', 'aeid'])]"
   ]
  },
  {
   "cell_type": "code",
   "execution_count": 86,
   "id": "342b47db-403e-4bf1-8501-385b236fb410",
   "metadata": {},
   "outputs": [
    {
     "data": {
      "image/png": "[encoded data removed]",
      "text/plain": [
       "<Figure size 720x360 with 2 Axes>"
      ]
     },
     "metadata": {},
     "output_type": "display_data"
    }
   ],
   "source": [
    "import seaborn as sns\n",
    "import matplotlib.pyplot as plt\n",
    "sns.set_style(\"ticks\")\n",
    "sns.set_context('poster')\n",
    "\n",
    "fig, axarr = plt.subplots(nrows=1, ncols=2, figsize=(10, 5), sharey=True)\n",
    "\n",
    "axarr[1] = sns.lineplot(data=receptor_score, x=\"Concentration\", y=\"Response\", ax=axarr[1], legend=False, label='{} Receptor;\\nAUC Score: {:.2f}'.format('ER Antagonism', high_auc_score), color='k', lw=3, ls='--')\n",
    "\n",
    "sns.set_context(\"poster\")\n",
    "\n",
    "axarr[0] = sns.lineplot(data=aeid_scores, x=\"Concentrations\", y=\"Response\", hue='ToxCast/Tox21 Assay ID', legend=False, palette=\"deep\", ax=axarr[0], lw=3)\n",
    "\n",
    "axarr[0].set(xscale=\"log\")\n",
    "axarr[1].set(xscale=\"log\")\n",
    "\n",
    "axarr[0].set_ylim(0, 1)\n",
    "axarr[1].set_ylim(0, 1)\n",
    "\n",
    "\n",
    "yticks = [0, 0.2, 0.4, 0.6, 0.8, 1.0]\n",
    "\n",
    "for i in [0, 1]:\n",
    "    axarr[i].set_yticks(yticks)\n",
    "    axarr[i].set_yticklabels(yticks, fontsize=14)\n",
    "\n",
    "\n",
    "xticks = axarr[0].get_xticks()[1:-2]\n",
    "for i in [0, 1]:\n",
    "    axarr[i].set_xticks(xticks)\n",
    "    axarr[i].set_xticklabels(xticks, fontsize=14)\n",
    "    axarr[i].set_ylabel('Response', fontsize=18)\n",
    "    axarr[i].set_xlabel('Concentration ($\\mu$M)', fontsize=18)\n",
    "\n",
    "\n",
    "\n",
    "axarr[0].set_title('ToxCast/Tox21 Assays')\n",
    "axarr[1].set_title('KE Score: {:.2f}'.format(high_auc_score))\n",
    "\n",
    "# plt.legend(handles=[], loc=2, prop={\"size\":20})\n",
    "plt.tight_layout()\n",
    "sns.despine(offset=10, trim=True);\n",
    "plt.savefig('../data/figures/{}_{}.png'.format(TARGET_RECEPTOR_TO_PLOT, high_auc_casn), transparent=True)"
   ]
  },
  {
   "cell_type": "code",
   "execution_count": 87,
   "id": "009b1725-ada2-4f03-adc0-fe18a131d3da",
   "metadata": {},
   "outputs": [],
   "source": [
    "for_scatter = receptor_scores.sort_values('auc_score', ascending=False)\n",
    "for_scatter['Rank']  = list(range(1, for_scatter.shape[0]+1))"
   ]
  },
  {
   "cell_type": "code",
   "execution_count": 69,
   "id": "18dfe150",
   "metadata": {},
   "outputs": [],
   "source": [
    "SCATTER_COLOR = 'grey'\n",
    "N = 150\n",
    "#N = 100"
   ]
  },
  {
   "cell_type": "code",
   "execution_count": 88,
   "id": "e0e31c18-9243-467b-8b8e-66afc481cb4a",
   "metadata": {},
   "outputs": [],
   "source": [
    "TITLE = 'KE 3 (TP53)'\n",
    "#TITLE = 'KE 4 (ER Antagonism)'"
   ]
  },
  {
   "cell_type": "code",
   "execution_count": 89,
   "id": "b63d33fa-7cbd-4a49-83bf-1e471057fc5d",
   "metadata": {},
   "outputs": [
    {
     "data": {
      "image/png": "[encoded data removed]",
      "text/plain": [
       "<Figure size 864x720 with 1 Axes>"
      ]
     },
     "metadata": {},
     "output_type": "display_data"
    }
   ],
   "source": [
    "fig, axarr = plt.subplots(nrows=1, ncols=1, figsize=(12, 10))\n",
    "sns.set()\n",
    "sns.set_style(\"ticks\")\n",
    "sns.set_context('poster')\n",
    "\n",
    "\n",
    "for_scatter2 = for_scatter.rename({'auc_score': \"{} Receptor Score\".format(TARGET_RECEPTOR_TO_PLOT)}, axis=1)\n",
    "\n",
    "\n",
    "axarr = sns.scatterplot(data=for_scatter2.iloc[:N], \n",
    "                        x=\"Rank\", y=\"{} Receptor Score\".format(TARGET_RECEPTOR_TO_PLOT), \n",
    "                        ax=axarr, \n",
    "                        edgecolor='k', \n",
    "                        color=SCATTER_COLOR, \n",
    "                        alpha=0.4, \n",
    "                        s=300)\n",
    "\n",
    "axarr.set_title('Top {} ToxCast/Tox21 Chemicals\\nRanked by {} Score'.format(N, TITLE), fontsize=26)\n",
    "handles, labels = axarr.get_legend_handles_labels()\n",
    "\n",
    "axarr.set_ylabel('{} Score'.format(TITLE), fontsize=22)\n",
    "\n",
    "sns.despine(offset=10, trim=True);\n",
    "plt.savefig('../data/figures/{}_scatter_plot.png'.format(TARGET_RECEPTOR_TO_PLOT), transparent=True)"
   ]
  },
  {
   "cell_type": "code",
   "execution_count": 72,
   "id": "90fe7611-973f-42bf-9a91-9399882c5338",
   "metadata": {},
   "outputs": [
    {
     "name": "stdout",
     "output_type": "stream",
     "text": [
      "2020.09.1\n"
     ]
    }
   ],
   "source": [
    "from rdkit import Chem\n",
    "\n",
    "from rdkit import Chem\n",
    "from rdkit.Chem import Draw\n",
    "from rdkit.Chem.Draw import rdMolDraw2D\n",
    "from rdkit.Chem import rdDepictor\n",
    "rdDepictor.SetPreferCoordGen(True)\n",
    "from rdkit.Chem.Draw import IPythonConsole\n",
    "from IPython.display import SVG\n",
    "import rdkit\n",
    "print(rdkit.__version__)TITLE"
   ]
  },
  {
   "cell_type": "code",
   "execution_count": 53,
   "id": "7e11f121-c051-4e9a-a874-70959dbe34c9",
   "metadata": {},
   "outputs": [],
   "source": [
    "chemicals = pd.DataFrame(list(client.LiverToxCast.master_chemicals.find({}, {'CASRN': 1, 'rdkitInChIClean': 1})))\n"
   ]
  },
  {
   "cell_type": "code",
   "execution_count": 54,
   "id": "620fa86d-3616-4588-b70e-a17f096202ca",
   "metadata": {},
   "outputs": [],
   "source": [
    "chemicals = chemicals.rename({'CASRN': 'casn'}, axis=1)"
   ]
  },
  {
   "cell_type": "code",
   "execution_count": 55,
   "id": "894d81fa",
   "metadata": {},
   "outputs": [
    {
     "data": {
      "text/plain": [
       "'23541-50-6'"
      ]
     },
     "execution_count": 55,
     "metadata": {},
     "output_type": "execute_result"
    }
   ],
   "source": [
    "high_auc_casn"
   ]
  },
  {
   "cell_type": "code",
   "execution_count": 58,
   "id": "7271b758",
   "metadata": {},
   "outputs": [
    {
     "data": {
      "text/html": [
       "<div>\n",
       "<style scoped>\n",
       "    .dataframe tbody tr th:only-of-type {\n",
       "        vertical-align: middle;\n",
       "    }\n",
       "\n",
       "    .dataframe tbody tr th {\n",
       "        vertical-align: top;\n",
       "    }\n",
       "\n",
       "    .dataframe thead th {\n",
       "        text-align: right;\n",
       "    }\n",
       "</style>\n",
       "<table border=\"1\" class=\"dataframe\">\n",
       "  <thead>\n",
       "    <tr style=\"text-align: right;\">\n",
       "      <th></th>\n",
       "      <th>_id</th>\n",
       "      <th>rdkitInChIClean</th>\n",
       "      <th>casn</th>\n",
       "    </tr>\n",
       "  </thead>\n",
       "  <tbody>\n",
       "    <tr>\n",
       "      <th>0</th>\n",
       "      <td>60d9d0cc3af87a557ec93fab</td>\n",
       "      <td>InChI=1S/2Bi.3O</td>\n",
       "      <td>1304-76-3</td>\n",
       "    </tr>\n",
       "    <tr>\n",
       "      <th>1</th>\n",
       "      <td>60d9d0cc3af87a557ec93fac</td>\n",
       "      <td>InChI=1S/2BrH.Ca/h2*1H;/q;;+2/p-2</td>\n",
       "      <td>7789-41-5</td>\n",
       "    </tr>\n",
       "    <tr>\n",
       "      <th>2</th>\n",
       "      <td>60d9d0cc3af87a557ec93fad</td>\n",
       "      <td>InChI=1S/2C10H19NO5/c2*1-10(2,6-12)8(15)9(16)1...</td>\n",
       "      <td>17097-76-6</td>\n",
       "    </tr>\n",
       "    <tr>\n",
       "      <th>3</th>\n",
       "      <td>60d9d0cc3af87a557ec93fae</td>\n",
       "      <td>InChI=1S/2C12H24O2.2C4H9.Sn/c2*1-2-3-4-5-6-7-8...</td>\n",
       "      <td>77-58-7</td>\n",
       "    </tr>\n",
       "    <tr>\n",
       "      <th>4</th>\n",
       "      <td>60d9d0cc3af87a557ec93faf</td>\n",
       "      <td>InChI=1S/2C2H4O2.Al.H2O/c2*1-2(3)4;;/h2*1H3,(H...</td>\n",
       "      <td>142-03-0</td>\n",
       "    </tr>\n",
       "    <tr>\n",
       "      <th>...</th>\n",
       "      <td>...</td>\n",
       "      <td>...</td>\n",
       "      <td>...</td>\n",
       "    </tr>\n",
       "    <tr>\n",
       "      <th>8402</th>\n",
       "      <td>60d9d0cc3af87a557ec9607d</td>\n",
       "      <td>InChI=1S/NO3.Tl/c2-1(3)4;/q-1;+1</td>\n",
       "      <td>10102-45-1</td>\n",
       "    </tr>\n",
       "    <tr>\n",
       "      <th>8403</th>\n",
       "      <td>60d9d0cc3af87a557ec9607e</td>\n",
       "      <td>InChI=1S/Na.H2O4S/c;1-5(2,3)4/h;(H2,1,2,3,4)/q...</td>\n",
       "      <td>7681-38-1</td>\n",
       "    </tr>\n",
       "    <tr>\n",
       "      <th>8404</th>\n",
       "      <td>60d9d0cc3af87a557ec9607f</td>\n",
       "      <td>InChI=1S/Ni.H2O4S/c;1-5(2,3)4/h;(H2,1,2,3,4)/q...</td>\n",
       "      <td>10101-97-0</td>\n",
       "    </tr>\n",
       "    <tr>\n",
       "      <th>8405</th>\n",
       "      <td>60d9d0cc3af87a557ec96080</td>\n",
       "      <td>InChI=1S/O2Se/c1-3-2</td>\n",
       "      <td>7446-08-4</td>\n",
       "    </tr>\n",
       "    <tr>\n",
       "      <th>8406</th>\n",
       "      <td>60d9d0cc3af87a557ec96081</td>\n",
       "      <td>InChI=1S/O2Si/c1-3-2</td>\n",
       "      <td>7631-86-9</td>\n",
       "    </tr>\n",
       "  </tbody>\n",
       "</table>\n",
       "<p>8407 rows × 3 columns</p>\n",
       "</div>"
      ],
      "text/plain": [
       "                           _id  \\\n",
       "0     60d9d0cc3af87a557ec93fab   \n",
       "1     60d9d0cc3af87a557ec93fac   \n",
       "2     60d9d0cc3af87a557ec93fad   \n",
       "3     60d9d0cc3af87a557ec93fae   \n",
       "4     60d9d0cc3af87a557ec93faf   \n",
       "...                        ...   \n",
       "8402  60d9d0cc3af87a557ec9607d   \n",
       "8403  60d9d0cc3af87a557ec9607e   \n",
       "8404  60d9d0cc3af87a557ec9607f   \n",
       "8405  60d9d0cc3af87a557ec96080   \n",
       "8406  60d9d0cc3af87a557ec96081   \n",
       "\n",
       "                                        rdkitInChIClean        casn  \n",
       "0                                       InChI=1S/2Bi.3O   1304-76-3  \n",
       "1                     InChI=1S/2BrH.Ca/h2*1H;/q;;+2/p-2   7789-41-5  \n",
       "2     InChI=1S/2C10H19NO5/c2*1-10(2,6-12)8(15)9(16)1...  17097-76-6  \n",
       "3     InChI=1S/2C12H24O2.2C4H9.Sn/c2*1-2-3-4-5-6-7-8...     77-58-7  \n",
       "4     InChI=1S/2C2H4O2.Al.H2O/c2*1-2(3)4;;/h2*1H3,(H...    142-03-0  \n",
       "...                                                 ...         ...  \n",
       "8402                   InChI=1S/NO3.Tl/c2-1(3)4;/q-1;+1  10102-45-1  \n",
       "8403  InChI=1S/Na.H2O4S/c;1-5(2,3)4/h;(H2,1,2,3,4)/q...   7681-38-1  \n",
       "8404  InChI=1S/Ni.H2O4S/c;1-5(2,3)4/h;(H2,1,2,3,4)/q...  10101-97-0  \n",
       "8405                               InChI=1S/O2Se/c1-3-2   7446-08-4  \n",
       "8406                               InChI=1S/O2Si/c1-3-2   7631-86-9  \n",
       "\n",
       "[8407 rows x 3 columns]"
      ]
     },
     "execution_count": 58,
     "metadata": {},
     "output_type": "execute_result"
    }
   ],
   "source": [
    "chemicals"
   ]
  },
  {
   "cell_type": "code",
   "execution_count": 57,
   "id": "97a6b256-f7be-48b3-8fad-fa7cc614cab0",
   "metadata": {},
   "outputs": [
    {
     "ename": "IndexError",
     "evalue": "single positional indexer is out-of-bounds",
     "output_type": "error",
     "traceback": [
      "\u001b[0;31m---------------------------------------------------------------------------\u001b[0m",
      "\u001b[0;31mIndexError\u001b[0m                                Traceback (most recent call last)",
      "\u001b[0;32m<ipython-input-57-e5b75a8ebd69>\u001b[0m in \u001b[0;36m<module>\u001b[0;34m\u001b[0m\n\u001b[0;32m----> 1\u001b[0;31m \u001b[0mmol\u001b[0m \u001b[0;34m=\u001b[0m \u001b[0mChem\u001b[0m\u001b[0;34m.\u001b[0m\u001b[0mMolFromInchi\u001b[0m\u001b[0;34m(\u001b[0m\u001b[0mchemicals\u001b[0m\u001b[0;34m[\u001b[0m\u001b[0mchemicals\u001b[0m\u001b[0;34m.\u001b[0m\u001b[0mcasn\u001b[0m \u001b[0;34m==\u001b[0m \u001b[0mhigh_auc_casn\u001b[0m\u001b[0;34m]\u001b[0m\u001b[0;34m.\u001b[0m\u001b[0mrdkitInChIClean\u001b[0m\u001b[0;34m.\u001b[0m\u001b[0miloc\u001b[0m\u001b[0;34m[\u001b[0m\u001b[0;36m0\u001b[0m\u001b[0;34m]\u001b[0m\u001b[0;34m)\u001b[0m\u001b[0;34m\u001b[0m\u001b[0;34m\u001b[0m\u001b[0m\n\u001b[0m",
      "\u001b[0;32m/opt/anaconda3/envs/ToxCast2/lib/python3.7/site-packages/pandas/core/indexing.py\u001b[0m in \u001b[0;36m__getitem__\u001b[0;34m(self, key)\u001b[0m\n\u001b[1;32m    893\u001b[0m \u001b[0;34m\u001b[0m\u001b[0m\n\u001b[1;32m    894\u001b[0m             \u001b[0mmaybe_callable\u001b[0m \u001b[0;34m=\u001b[0m \u001b[0mcom\u001b[0m\u001b[0;34m.\u001b[0m\u001b[0mapply_if_callable\u001b[0m\u001b[0;34m(\u001b[0m\u001b[0mkey\u001b[0m\u001b[0;34m,\u001b[0m \u001b[0mself\u001b[0m\u001b[0;34m.\u001b[0m\u001b[0mobj\u001b[0m\u001b[0;34m)\u001b[0m\u001b[0;34m\u001b[0m\u001b[0;34m\u001b[0m\u001b[0m\n\u001b[0;32m--> 895\u001b[0;31m             \u001b[0;32mreturn\u001b[0m \u001b[0mself\u001b[0m\u001b[0;34m.\u001b[0m\u001b[0m_getitem_axis\u001b[0m\u001b[0;34m(\u001b[0m\u001b[0mmaybe_callable\u001b[0m\u001b[0;34m,\u001b[0m \u001b[0maxis\u001b[0m\u001b[0;34m=\u001b[0m\u001b[0maxis\u001b[0m\u001b[0;34m)\u001b[0m\u001b[0;34m\u001b[0m\u001b[0;34m\u001b[0m\u001b[0m\n\u001b[0m\u001b[1;32m    896\u001b[0m \u001b[0;34m\u001b[0m\u001b[0m\n\u001b[1;32m    897\u001b[0m     \u001b[0;32mdef\u001b[0m \u001b[0m_is_scalar_access\u001b[0m\u001b[0;34m(\u001b[0m\u001b[0mself\u001b[0m\u001b[0;34m,\u001b[0m \u001b[0mkey\u001b[0m\u001b[0;34m:\u001b[0m \u001b[0mTuple\u001b[0m\u001b[0;34m)\u001b[0m\u001b[0;34m:\u001b[0m\u001b[0;34m\u001b[0m\u001b[0;34m\u001b[0m\u001b[0m\n",
      "\u001b[0;32m/opt/anaconda3/envs/ToxCast2/lib/python3.7/site-packages/pandas/core/indexing.py\u001b[0m in \u001b[0;36m_getitem_axis\u001b[0;34m(self, key, axis)\u001b[0m\n\u001b[1;32m   1499\u001b[0m \u001b[0;34m\u001b[0m\u001b[0m\n\u001b[1;32m   1500\u001b[0m             \u001b[0;31m# validate the location\u001b[0m\u001b[0;34m\u001b[0m\u001b[0;34m\u001b[0m\u001b[0;34m\u001b[0m\u001b[0m\n\u001b[0;32m-> 1501\u001b[0;31m             \u001b[0mself\u001b[0m\u001b[0;34m.\u001b[0m\u001b[0m_validate_integer\u001b[0m\u001b[0;34m(\u001b[0m\u001b[0mkey\u001b[0m\u001b[0;34m,\u001b[0m \u001b[0maxis\u001b[0m\u001b[0;34m)\u001b[0m\u001b[0;34m\u001b[0m\u001b[0;34m\u001b[0m\u001b[0m\n\u001b[0m\u001b[1;32m   1502\u001b[0m \u001b[0;34m\u001b[0m\u001b[0m\n\u001b[1;32m   1503\u001b[0m             \u001b[0;32mreturn\u001b[0m \u001b[0mself\u001b[0m\u001b[0;34m.\u001b[0m\u001b[0mobj\u001b[0m\u001b[0;34m.\u001b[0m\u001b[0m_ixs\u001b[0m\u001b[0;34m(\u001b[0m\u001b[0mkey\u001b[0m\u001b[0;34m,\u001b[0m \u001b[0maxis\u001b[0m\u001b[0;34m=\u001b[0m\u001b[0maxis\u001b[0m\u001b[0;34m)\u001b[0m\u001b[0;34m\u001b[0m\u001b[0;34m\u001b[0m\u001b[0m\n",
      "\u001b[0;32m/opt/anaconda3/envs/ToxCast2/lib/python3.7/site-packages/pandas/core/indexing.py\u001b[0m in \u001b[0;36m_validate_integer\u001b[0;34m(self, key, axis)\u001b[0m\n\u001b[1;32m   1442\u001b[0m         \u001b[0mlen_axis\u001b[0m \u001b[0;34m=\u001b[0m \u001b[0mlen\u001b[0m\u001b[0;34m(\u001b[0m\u001b[0mself\u001b[0m\u001b[0;34m.\u001b[0m\u001b[0mobj\u001b[0m\u001b[0;34m.\u001b[0m\u001b[0m_get_axis\u001b[0m\u001b[0;34m(\u001b[0m\u001b[0maxis\u001b[0m\u001b[0;34m)\u001b[0m\u001b[0;34m)\u001b[0m\u001b[0;34m\u001b[0m\u001b[0;34m\u001b[0m\u001b[0m\n\u001b[1;32m   1443\u001b[0m         \u001b[0;32mif\u001b[0m \u001b[0mkey\u001b[0m \u001b[0;34m>=\u001b[0m \u001b[0mlen_axis\u001b[0m \u001b[0;32mor\u001b[0m \u001b[0mkey\u001b[0m \u001b[0;34m<\u001b[0m \u001b[0;34m-\u001b[0m\u001b[0mlen_axis\u001b[0m\u001b[0;34m:\u001b[0m\u001b[0;34m\u001b[0m\u001b[0;34m\u001b[0m\u001b[0m\n\u001b[0;32m-> 1444\u001b[0;31m             \u001b[0;32mraise\u001b[0m \u001b[0mIndexError\u001b[0m\u001b[0;34m(\u001b[0m\u001b[0;34m\"single positional indexer is out-of-bounds\"\u001b[0m\u001b[0;34m)\u001b[0m\u001b[0;34m\u001b[0m\u001b[0;34m\u001b[0m\u001b[0m\n\u001b[0m\u001b[1;32m   1445\u001b[0m \u001b[0;34m\u001b[0m\u001b[0m\n\u001b[1;32m   1446\u001b[0m     \u001b[0;31m# -------------------------------------------------------------------\u001b[0m\u001b[0;34m\u001b[0m\u001b[0;34m\u001b[0m\u001b[0;34m\u001b[0m\u001b[0m\n",
      "\u001b[0;31mIndexError\u001b[0m: single positional indexer is out-of-bounds"
     ]
    }
   ],
   "source": [
    "mol = Chem.MolFromInchi(chemicals[chemicals.casn == high_auc_casn].rdkitInChIClean.iloc[0])"
   ]
  },
  {
   "cell_type": "code",
   "execution_count": null,
   "id": "54d71dd4-d777-4935-81d0-5d4f192e248c",
   "metadata": {},
   "outputs": [
    {
     "data": {
      "image/svg+xml": [
       "<svg baseProfile=\"full\" height=\"300px\" version=\"1.1\" viewBox=\"0 0 350 300\" width=\"350px\" xml:space=\"preserve\" xmlns=\"http://www.w3.org/2000/svg\" xmlns:rdkit=\"http://www.rdkit.org/xml\" xmlns:xlink=\"http://www.w3.org/1999/xlink\">\n",
       "<!-- END OF HEADER -->\n",
       "<rect height=\"300\" style=\"opacity:1.0;fill:#FFFFFF;stroke:none\" width=\"350\" x=\"0\" y=\"0\"> </rect>\n",
       "<path class=\"bond-0\" d=\"M 248.426,107.605 L 285.138,86.4518\" style=\"fill:none;fill-rule:evenodd;stroke:#000000;stroke-width:2.0px;stroke-linecap:butt;stroke-linejoin:miter;stroke-opacity:1\"/>\n",
       "<path class=\"bond-0\" d=\"M 250.125,97.8231 L 275.824,83.0159\" style=\"fill:none;fill-rule:evenodd;stroke:#000000;stroke-width:2.0px;stroke-linecap:butt;stroke-linejoin:miter;stroke-opacity:1\"/>\n",
       "<path class=\"bond-1\" d=\"M 248.426,107.605 L 211.747,86.3925\" style=\"fill:none;fill-rule:evenodd;stroke:#000000;stroke-width:2.0px;stroke-linecap:butt;stroke-linejoin:miter;stroke-opacity:1\"/>\n",
       "<path class=\"bond-2\" d=\"M 285.138,86.4518 L 285.172,44.0778\" style=\"fill:none;fill-rule:evenodd;stroke:#000000;stroke-width:2.0px;stroke-linecap:butt;stroke-linejoin:miter;stroke-opacity:1\"/>\n",
       "<path class=\"bond-3\" d=\"M 175.034,107.546 L 211.747,86.3925\" style=\"fill:none;fill-rule:evenodd;stroke:#000000;stroke-width:2.0px;stroke-linecap:butt;stroke-linejoin:miter;stroke-opacity:1\"/>\n",
       "<path class=\"bond-3\" d=\"M 176.733,97.7638 L 202.432,82.9566\" style=\"fill:none;fill-rule:evenodd;stroke:#000000;stroke-width:2.0px;stroke-linecap:butt;stroke-linejoin:miter;stroke-opacity:1\"/>\n",
       "<path class=\"bond-4\" d=\"M 175.034,107.546 L 138.355,86.3331\" style=\"fill:none;fill-rule:evenodd;stroke:#000000;stroke-width:2.0px;stroke-linecap:butt;stroke-linejoin:miter;stroke-opacity:1\"/>\n",
       "<path class=\"bond-5\" d=\"M 175.102,22.7976 L 138.389,43.9592\" style=\"fill:none;fill-rule:evenodd;stroke:#000000;stroke-width:2.0px;stroke-linecap:butt;stroke-linejoin:miter;stroke-opacity:1\"/>\n",
       "<path class=\"bond-6\" d=\"M 175.102,22.7976 L 211.781,44.0185\" style=\"fill:none;fill-rule:evenodd;stroke:#000000;stroke-width:2.0px;stroke-linecap:butt;stroke-linejoin:miter;stroke-opacity:1\"/>\n",
       "<path class=\"bond-6\" d=\"M 176.784,32.5827 L 202.459,47.4374\" style=\"fill:none;fill-rule:evenodd;stroke:#000000;stroke-width:2.0px;stroke-linecap:butt;stroke-linejoin:miter;stroke-opacity:1\"/>\n",
       "<path class=\"bond-7\" d=\"M 28.1488,234.557 L 64.8616,213.396\" style=\"fill:none;fill-rule:evenodd;stroke:#000000;stroke-width:2.0px;stroke-linecap:butt;stroke-linejoin:miter;stroke-opacity:1\"/>\n",
       "<path class=\"bond-8\" d=\"M 28.1488,234.557 L 28.1359,250.664\" style=\"fill:none;fill-rule:evenodd;stroke:#000000;stroke-width:2.0px;stroke-linecap:butt;stroke-linejoin:miter;stroke-opacity:1\"/>\n",
       "<path class=\"bond-8\" d=\"M 28.1359,250.664 L 28.123,266.77\" style=\"fill:none;fill-rule:evenodd;stroke:#FF0000;stroke-width:2.0px;stroke-linecap:butt;stroke-linejoin:miter;stroke-opacity:1\"/>\n",
       "<path class=\"bond-9\" d=\"M 211.747,86.3925 L 211.781,44.0185\" style=\"fill:none;fill-rule:evenodd;stroke:#000000;stroke-width:2.0px;stroke-linecap:butt;stroke-linejoin:miter;stroke-opacity:1\"/>\n",
       "<path class=\"bond-10\" d=\"M 138.389,43.9592 L 138.355,86.3331\" style=\"fill:none;fill-rule:evenodd;stroke:#000000;stroke-width:2.0px;stroke-linecap:butt;stroke-linejoin:miter;stroke-opacity:1\"/>\n",
       "<path class=\"bond-10\" d=\"M 146.011,50.3214 L 145.987,79.9831\" style=\"fill:none;fill-rule:evenodd;stroke:#000000;stroke-width:2.0px;stroke-linecap:butt;stroke-linejoin:miter;stroke-opacity:1\"/>\n",
       "<path class=\"bond-11\" d=\"M 138.389,43.9592 L 124.711,36.0455\" style=\"fill:none;fill-rule:evenodd;stroke:#000000;stroke-width:2.0px;stroke-linecap:butt;stroke-linejoin:miter;stroke-opacity:1\"/>\n",
       "<path class=\"bond-11\" d=\"M 124.711,36.0455 L 111.032,28.1318\" style=\"fill:none;fill-rule:evenodd;stroke:#FF0000;stroke-width:2.0px;stroke-linecap:butt;stroke-linejoin:miter;stroke-opacity:1\"/>\n",
       "<path class=\"bond-12\" d=\"M 211.781,44.0185 L 225.476,36.1244\" style=\"fill:none;fill-rule:evenodd;stroke:#000000;stroke-width:2.0px;stroke-linecap:butt;stroke-linejoin:miter;stroke-opacity:1\"/>\n",
       "<path class=\"bond-12\" d=\"M 225.476,36.1244 L 239.171,28.2304\" style=\"fill:none;fill-rule:evenodd;stroke:#FF0000;stroke-width:2.0px;stroke-linecap:butt;stroke-linejoin:miter;stroke-opacity:1\"/>\n",
       "<path class=\"bond-13\" d=\"M 138.355,86.3331 L 124.66,94.224\" style=\"fill:none;fill-rule:evenodd;stroke:#000000;stroke-width:2.0px;stroke-linecap:butt;stroke-linejoin:miter;stroke-opacity:1\"/>\n",
       "<path class=\"bond-13\" d=\"M 124.66,94.224 L 110.964,102.115\" style=\"fill:none;fill-rule:evenodd;stroke:#FF0000;stroke-width:2.0px;stroke-linecap:butt;stroke-linejoin:miter;stroke-opacity:1\"/>\n",
       "<path class=\"bond-14\" d=\"M 64.8616,213.396 L 101.541,234.608\" style=\"fill:none;fill-rule:evenodd;stroke:#000000;stroke-width:2.0px;stroke-linecap:butt;stroke-linejoin:miter;stroke-opacity:1\"/>\n",
       "<path class=\"bond-15\" d=\"M 64.8616,213.396 L 64.8744,197.429\" style=\"fill:none;fill-rule:evenodd;stroke:#000000;stroke-width:2.0px;stroke-linecap:butt;stroke-linejoin:miter;stroke-opacity:1\"/>\n",
       "<path class=\"bond-15\" d=\"M 64.8744,197.429 L 64.8872,181.463\" style=\"fill:none;fill-rule:evenodd;stroke:#FF0000;stroke-width:2.0px;stroke-linecap:butt;stroke-linejoin:miter;stroke-opacity:1\"/>\n",
       "<path class=\"bond-16\" d=\"M 287.077,47.3819 L 300.772,39.4878\" style=\"fill:none;fill-rule:evenodd;stroke:#000000;stroke-width:2.0px;stroke-linecap:butt;stroke-linejoin:miter;stroke-opacity:1\"/>\n",
       "<path class=\"bond-16\" d=\"M 300.772,39.4878 L 314.467,31.5938\" style=\"fill:none;fill-rule:evenodd;stroke:#FF0000;stroke-width:2.0px;stroke-linecap:butt;stroke-linejoin:miter;stroke-opacity:1\"/>\n",
       "<path class=\"bond-16\" d=\"M 283.268,40.7737 L 296.963,32.8797\" style=\"fill:none;fill-rule:evenodd;stroke:#000000;stroke-width:2.0px;stroke-linecap:butt;stroke-linejoin:miter;stroke-opacity:1\"/>\n",
       "<path class=\"bond-16\" d=\"M 296.963,32.8797 L 310.658,24.9856\" style=\"fill:none;fill-rule:evenodd;stroke:#FF0000;stroke-width:2.0px;stroke-linecap:butt;stroke-linejoin:miter;stroke-opacity:1\"/>\n",
       "<path class=\"bond-17\" d=\"M 285.172,44.0778 L 271.494,36.1641\" style=\"fill:none;fill-rule:evenodd;stroke:#000000;stroke-width:2.0px;stroke-linecap:butt;stroke-linejoin:miter;stroke-opacity:1\"/>\n",
       "<path class=\"bond-17\" d=\"M 271.494,36.1641 L 257.816,28.2504\" style=\"fill:none;fill-rule:evenodd;stroke:#FF0000;stroke-width:2.0px;stroke-linecap:butt;stroke-linejoin:miter;stroke-opacity:1\"/>\n",
       "<path class=\"bond-18\" d=\"M 101.541,234.608 L 138.253,213.455\" style=\"fill:none;fill-rule:evenodd;stroke:#000000;stroke-width:2.0px;stroke-linecap:butt;stroke-linejoin:miter;stroke-opacity:1\"/>\n",
       "<path class=\"bond-19\" d=\"M 101.541,234.608 L 101.528,250.714\" style=\"fill:none;fill-rule:evenodd;stroke:#000000;stroke-width:2.0px;stroke-linecap:butt;stroke-linejoin:miter;stroke-opacity:1\"/>\n",
       "<path class=\"bond-19\" d=\"M 101.528,250.714 L 101.515,266.821\" style=\"fill:none;fill-rule:evenodd;stroke:#FF0000;stroke-width:2.0px;stroke-linecap:butt;stroke-linejoin:miter;stroke-opacity:1\"/>\n",
       "<path class=\"bond-20\" d=\"M 138.253,213.455 L 138.287,171.081\" style=\"fill:none;fill-rule:evenodd;stroke:#000000;stroke-width:2.0px;stroke-linecap:butt;stroke-linejoin:miter;stroke-opacity:1\"/>\n",
       "<path class=\"bond-21\" d=\"M 138.253,213.455 L 151.932,221.366\" style=\"fill:none;fill-rule:evenodd;stroke:#000000;stroke-width:2.0px;stroke-linecap:butt;stroke-linejoin:miter;stroke-opacity:1\"/>\n",
       "<path class=\"bond-21\" d=\"M 151.932,221.366 L 165.61,229.276\" style=\"fill:none;fill-rule:evenodd;stroke:#FF0000;stroke-width:2.0px;stroke-linecap:butt;stroke-linejoin:miter;stroke-opacity:1\"/>\n",
       "<path class=\"bond-22\" d=\"M 138.287,171.081 L 101.608,149.86\" style=\"fill:none;fill-rule:evenodd;stroke:#000000;stroke-width:2.0px;stroke-linecap:butt;stroke-linejoin:miter;stroke-opacity:1\"/>\n",
       "<path class=\"bond-23\" d=\"M 138.287,171.081 L 151.982,163.187\" style=\"fill:none;fill-rule:evenodd;stroke:#000000;stroke-width:2.0px;stroke-linecap:butt;stroke-linejoin:miter;stroke-opacity:1\"/>\n",
       "<path class=\"bond-23\" d=\"M 151.982,163.187 L 165.678,155.293\" style=\"fill:none;fill-rule:evenodd;stroke:#FF0000;stroke-width:2.0px;stroke-linecap:butt;stroke-linejoin:miter;stroke-opacity:1\"/>\n",
       "<path class=\"bond-24\" d=\"M 101.608,149.86 L 101.621,133.894\" style=\"fill:none;fill-rule:evenodd;stroke:#000000;stroke-width:2.0px;stroke-linecap:butt;stroke-linejoin:miter;stroke-opacity:1\"/>\n",
       "<path class=\"bond-24\" d=\"M 101.621,133.894 L 101.634,117.927\" style=\"fill:none;fill-rule:evenodd;stroke:#FF0000;stroke-width:2.0px;stroke-linecap:butt;stroke-linejoin:miter;stroke-opacity:1\"/>\n",
       "<path class=\"bond-25\" d=\"M 101.608,149.86 L 87.9131,157.754\" style=\"fill:none;fill-rule:evenodd;stroke:#000000;stroke-width:2.0px;stroke-linecap:butt;stroke-linejoin:miter;stroke-opacity:1\"/>\n",
       "<path class=\"bond-25\" d=\"M 87.9131,157.754 L 74.2178,165.648\" style=\"fill:none;fill-rule:evenodd;stroke:#FF0000;stroke-width:2.0px;stroke-linecap:butt;stroke-linejoin:miter;stroke-opacity:1\"/>\n",
       "<path class=\"atom-15\" d=\"M 19.852 276.982 Q 19.852 272.66, 21.9876 270.245 Q 24.1233 267.829, 28.1149 267.829 Q 32.1065 267.829, 34.2422 270.245 Q 36.3778 272.66, 36.3778 276.982 Q 36.3778 281.355, 34.2168 283.847 Q 32.0557 286.313, 28.1149 286.313 Q 24.1487 286.313, 21.9876 283.847 Q 19.852 281.38, 19.852 276.982 M 28.1149 284.279 Q 30.8607 284.279, 32.3354 282.448 Q 33.8354 280.592, 33.8354 276.982 Q 33.8354 273.448, 32.3354 271.668 Q 30.8607 269.863, 28.1149 269.863 Q 25.3691 269.863, 23.869 271.643 Q 22.3944 273.423, 22.3944 276.982 Q 22.3944 280.618, 23.869 282.448 Q 25.3691 284.279, 28.1149 284.279 \" fill=\"#FF0000\"/>\n",
       "<path class=\"atom-15\" d=\"M 38.5389 268.033 L 40.9796 268.033 L 40.9796 275.685 L 50.1833 275.685 L 50.1833 268.033 L 52.624 268.033 L 52.624 286.033 L 50.1833 286.033 L 50.1833 277.719 L 40.9796 277.719 L 40.9796 286.033 L 38.5389 286.033 L 38.5389 268.033 \" fill=\"#FF0000\"/>\n",
       "<path class=\"atom-16\" d=\"M 78.0908 13.8398 L 80.5315 13.8398 L 80.5315 21.4925 L 89.7351 21.4925 L 89.7351 13.8398 L 92.1759 13.8398 L 92.1759 31.8402 L 89.7351 31.8402 L 89.7351 23.5264 L 80.5315 23.5264 L 80.5315 31.8402 L 78.0908 31.8402 L 78.0908 13.8398 \" fill=\"#FF0000\"/>\n",
       "<path class=\"atom-16\" d=\"M 93.4471 22.7891 Q 93.4471 18.467, 95.5827 16.0517 Q 97.7184 13.6364, 101.71 13.6364 Q 105.702 13.6364, 107.837 16.0517 Q 109.973 18.467, 109.973 22.7891 Q 109.973 27.1621, 107.812 29.6537 Q 105.651 32.1199, 101.71 32.1199 Q 97.7438 32.1199, 95.5827 29.6537 Q 93.4471 27.1876, 93.4471 22.7891 M 101.71 30.0859 Q 104.456 30.0859, 105.93 28.2554 Q 107.43 26.3994, 107.43 22.7891 Q 107.43 19.2552, 105.93 17.4754 Q 104.456 15.6703, 101.71 15.6703 Q 98.9642 15.6703, 97.4641 17.45 Q 95.9895 19.2297, 95.9895 22.7891 Q 95.9895 26.4248, 97.4641 28.2554 Q 98.9642 30.0859, 101.71 30.0859 \" fill=\"#FF0000\"/>\n",
       "<path class=\"atom-17\" d=\"M 313.622 22.9671 Q 313.622 18.645, 315.758 16.2296 Q 317.893 13.8143, 321.885 13.8143 Q 325.877 13.8143, 328.012 16.2296 Q 330.148 18.645, 330.148 22.9671 Q 330.148 27.3401, 327.987 29.8317 Q 325.826 32.2979, 321.885 32.2979 Q 317.919 32.2979, 315.758 29.8317 Q 313.622 27.3655, 313.622 22.9671 M 321.885 30.2639 Q 324.631 30.2639, 326.106 28.4333 Q 327.606 26.5774, 327.606 22.9671 Q 327.606 19.4331, 326.106 17.6534 Q 324.631 15.8483, 321.885 15.8483 Q 319.139 15.8483, 317.639 17.628 Q 316.165 19.4077, 316.165 22.9671 Q 316.165 26.6028, 317.639 28.4333 Q 319.139 30.2639, 321.885 30.2639 \" fill=\"#FF0000\"/>\n",
       "<path class=\"atom-18\" d=\"M 93.2437 277.033 Q 93.2437 272.711, 95.3793 270.295 Q 97.515 267.88, 101.507 267.88 Q 105.498 267.88, 107.634 270.295 Q 109.77 272.711, 109.77 277.033 Q 109.77 281.406, 107.608 283.897 Q 105.447 286.364, 101.507 286.364 Q 97.5404 286.364, 95.3793 283.897 Q 93.2437 281.431, 93.2437 277.033 M 101.507 284.33 Q 104.252 284.33, 105.727 282.499 Q 107.227 280.643, 107.227 277.033 Q 107.227 273.499, 105.727 271.719 Q 104.252 269.914, 101.507 269.914 Q 98.7608 269.914, 97.2607 271.694 Q 95.7861 273.473, 95.7861 277.033 Q 95.7861 280.669, 97.2607 282.499 Q 98.7608 284.33, 101.507 284.33 \" fill=\"#FF0000\"/>\n",
       "<path class=\"atom-18\" d=\"M 111.931 268.084 L 114.371 268.084 L 114.371 275.736 L 123.575 275.736 L 123.575 268.084 L 126.016 268.084 L 126.016 286.084 L 123.575 286.084 L 123.575 277.77 L 114.371 277.77 L 114.371 286.084 L 111.931 286.084 L 111.931 268.084 \" fill=\"#FF0000\"/>\n",
       "<path class=\"atom-19\" d=\"M 166.669 234.718 Q 166.669 230.396, 168.805 227.981 Q 170.941 225.565, 174.932 225.565 Q 178.924 225.565, 181.059 227.981 Q 183.195 230.396, 183.195 234.718 Q 183.195 239.091, 181.034 241.583 Q 178.873 244.049, 174.932 244.049 Q 170.966 244.049, 168.805 241.583 Q 166.669 239.117, 166.669 234.718 M 174.932 242.015 Q 177.678 242.015, 179.153 240.185 Q 180.653 238.329, 180.653 234.718 Q 180.653 231.184, 179.153 229.405 Q 177.678 227.599, 174.932 227.599 Q 172.186 227.599, 170.686 229.379 Q 169.212 231.159, 169.212 234.718 Q 169.212 238.354, 170.686 240.185 Q 172.186 242.015, 174.932 242.015 \" fill=\"#FF0000\"/>\n",
       "<path class=\"atom-19\" d=\"M 185.356 225.769 L 187.797 225.769 L 187.797 233.422 L 197.001 233.422 L 197.001 225.769 L 199.441 225.769 L 199.441 243.769 L 197.001 243.769 L 197.001 235.456 L 187.797 235.456 L 187.797 243.769 L 185.356 243.769 L 185.356 225.769 \" fill=\"#FF0000\"/>\n",
       "<path class=\"atom-20\" d=\"M 166.737 149.97 Q 166.737 145.648, 168.873 143.233 Q 171.008 140.818, 175 140.818 Q 178.992 140.818, 181.127 143.233 Q 183.263 145.648, 183.263 149.97 Q 183.263 154.343, 181.102 156.835 Q 178.941 159.301, 175 159.301 Q 171.034 159.301, 168.873 156.835 Q 166.737 154.369, 166.737 149.97 M 175 157.267 Q 177.746 157.267, 179.22 155.437 Q 180.72 153.581, 180.72 149.97 Q 180.72 146.436, 179.22 144.657 Q 177.746 142.852, 175 142.852 Q 172.254 142.852, 170.754 144.631 Q 169.28 146.411, 169.28 149.97 Q 169.28 153.606, 170.754 155.437 Q 172.254 157.267, 175 157.267 \" fill=\"#FF0000\"/>\n",
       "<path class=\"atom-20\" d=\"M 185.424 141.021 L 187.865 141.021 L 187.865 148.674 L 197.068 148.674 L 197.068 141.021 L 199.509 141.021 L 199.509 159.021 L 197.068 159.021 L 197.068 150.708 L 187.865 150.708 L 187.865 159.021 L 185.424 159.021 L 185.424 141.021 \" fill=\"#FF0000\"/>\n",
       "<path class=\"atom-21\" d=\"M 240.23 22.9078 Q 240.23 18.5856, 242.366 16.1703 Q 244.502 13.755, 248.493 13.755 Q 252.485 13.755, 254.621 16.1703 Q 256.756 18.5856, 256.756 22.9078 Q 256.756 27.2808, 254.595 29.7724 Q 252.434 32.2385, 248.493 32.2385 Q 244.527 32.2385, 242.366 29.7724 Q 240.23 27.3062, 240.23 22.9078 M 248.493 30.2046 Q 251.239 30.2046, 252.714 28.374 Q 254.214 26.518, 254.214 22.9078 Q 254.214 19.3738, 252.714 17.5941 Q 251.239 15.789, 248.493 15.789 Q 245.748 15.789, 244.248 17.5687 Q 242.773 19.3484, 242.773 22.9078 Q 242.773 26.5435, 244.248 28.374 Q 245.748 30.2046, 248.493 30.2046 \" fill=\"#FF0000\"/>\n",
       "<path class=\"atom-22\" d=\"M 93.3793 107.537 Q 93.3793 103.215, 95.5149 100.8 Q 97.6506 98.3843, 101.642 98.3843 Q 105.634 98.3843, 107.769 100.8 Q 109.905 103.215, 109.905 107.537 Q 109.905 111.91, 107.744 114.402 Q 105.583 116.868, 101.642 116.868 Q 97.676 116.868, 95.5149 114.402 Q 93.3793 111.935, 93.3793 107.537 M 101.642 114.834 Q 104.388 114.834, 105.863 113.003 Q 107.363 111.147, 107.363 107.537 Q 107.363 104.003, 105.863 102.223 Q 104.388 100.418, 101.642 100.418 Q 98.8964 100.418, 97.3963 102.198 Q 95.9217 103.978, 95.9217 107.537 Q 95.9217 111.173, 97.3963 113.003 Q 98.8964 114.834, 101.642 114.834 \" fill=\"#FF0000\"/>\n",
       "<path class=\"atom-23\" d=\"M 56.6326 171.073 Q 56.6326 166.75, 58.7682 164.335 Q 60.9039 161.92, 64.8955 161.92 Q 68.8871 161.92, 71.0228 164.335 Q 73.1584 166.75, 73.1584 171.073 Q 73.1584 175.446, 70.9974 177.937 Q 68.8363 180.403, 64.8955 180.403 Q 60.9293 180.403, 58.7682 177.937 Q 56.6326 175.471, 56.6326 171.073 M 64.8955 178.369 Q 67.6413 178.369, 69.116 176.539 Q 70.616 174.683, 70.616 171.073 Q 70.616 167.539, 69.116 165.759 Q 67.6413 163.954, 64.8955 163.954 Q 62.1497 163.954, 60.6496 165.733 Q 59.175 167.513, 59.175 171.073 Q 59.175 174.708, 60.6496 176.539 Q 62.1497 178.369, 64.8955 178.369 \" fill=\"#FF0000\"/>\n",
       "</svg>"
      ],
      "text/plain": [
       "<IPython.core.display.SVG object>"
      ]
     },
     "execution_count": 194,
     "metadata": {},
     "output_type": "execute_result"
    }
   ],
   "source": [
    "d2d = rdMolDraw2D.MolDraw2DSVG(350,300)\n",
    "d2d.DrawMolecule(mol)\n",
    "d2d.FinishDrawing()\n",
    "SVG(d2d.GetDrawingText())"
   ]
  },
  {
   "cell_type": "code",
   "execution_count": 59,
   "id": "80b3102e-93b1-4b3b-b090-7c4f20dda37a",
   "metadata": {},
   "outputs": [
    {
     "data": {
      "text/plain": [
       "[1116, 1317, 1321, 1325, 1329]"
      ]
     },
     "execution_count": 59,
     "metadata": {},
     "output_type": "execute_result"
    }
   ],
   "source": [
    "aeid_scores['ToxCast Assay ID'].unique().tolist()"
   ]
  },
  {
   "cell_type": "code",
   "execution_count": null,
   "id": "beebf2fe-25de-4833-8537-1d4af1d13587",
   "metadata": {},
   "outputs": [
    {
     "data": {
      "text/plain": [
       "'531-75-9'"
      ]
     },
     "execution_count": 196,
     "metadata": {},
     "output_type": "execute_result"
    }
   ],
   "source": [
    "high_auc_casn"
   ]
  },
  {
   "cell_type": "code",
   "execution_count": null,
   "id": "5a94ff5d-e37e-4400-ad18-4fc66cde8c9e",
   "metadata": {},
   "outputs": [
    {
     "data": {
      "text/html": [
       "<div>\n",
       "<style scoped>\n",
       "    .dataframe tbody tr th:only-of-type {\n",
       "        vertical-align: middle;\n",
       "    }\n",
       "\n",
       "    .dataframe tbody tr th {\n",
       "        vertical-align: top;\n",
       "    }\n",
       "\n",
       "    .dataframe thead th {\n",
       "        text-align: right;\n",
       "    }\n",
       "</style>\n",
       "<table border=\"1\" class=\"dataframe\">\n",
       "  <thead>\n",
       "    <tr style=\"text-align: right;\">\n",
       "      <th></th>\n",
       "      <th>_id</th>\n",
       "      <th>rdkitInChIClean</th>\n",
       "      <th>casn</th>\n",
       "    </tr>\n",
       "  </thead>\n",
       "  <tbody>\n",
       "    <tr>\n",
       "      <th>4842</th>\n",
       "      <td>60d9d0cc3af87a557ec95295</td>\n",
       "      <td>InChI=1S/C27H26N2O2/c1-27(2,19-3-11-23(12-4-19...</td>\n",
       "      <td>13080-86-9</td>\n",
       "    </tr>\n",
       "  </tbody>\n",
       "</table>\n",
       "</div>"
      ],
      "text/plain": [
       "                           _id  \\\n",
       "4842  60d9d0cc3af87a557ec95295   \n",
       "\n",
       "                                        rdkitInChIClean        casn  \n",
       "4842  InChI=1S/C27H26N2O2/c1-27(2,19-3-11-23(12-4-19...  13080-86-9  "
      ]
     },
     "execution_count": 197,
     "metadata": {},
     "output_type": "execute_result"
    }
   ],
   "source": [
    "chemicals[chemicals.casn == '13080-86-9']"
   ]
  },
  {
   "cell_type": "code",
   "execution_count": null,
   "id": "aa9fd91b-7ef2-44df-ab1d-c80cea1cc502",
   "metadata": {},
   "outputs": [
    {
     "ename": "NameError",
     "evalue": "name 'hb' is not defined",
     "output_type": "error",
     "traceback": [
      "\u001b[0;31m---------------------------------------------------------------------------\u001b[0m",
      "\u001b[0;31mNameError\u001b[0m                                 Traceback (most recent call last)",
      "\u001b[0;32m<ipython-input-198-3caafae9e6e9>\u001b[0m in \u001b[0;36m<module>\u001b[0;34m\u001b[0m\n\u001b[0;32m----> 1\u001b[0;31m \u001b[0mhb\u001b[0m\u001b[0;34m\u001b[0m\u001b[0;34m\u001b[0m\u001b[0m\n\u001b[0m",
      "\u001b[0;31mNameError\u001b[0m: name 'hb' is not defined"
     ]
    }
   ],
   "source": [
    "hb"
   ]
  },
  {
   "cell_type": "code",
   "execution_count": null,
   "id": "1a0225fd-a8c3-45bc-92b2-2870b4f88fff",
   "metadata": {},
   "outputs": [],
   "source": [
    "for_scatter2.iloc[:100]"
   ]
  },
  {
   "cell_type": "code",
   "execution_count": null,
   "id": "2336296f-0e32-4760-a961-ad479bad2008",
   "metadata": {},
   "outputs": [],
   "source": []
  }
 ],
 "metadata": {
  "kernelspec": {
   "display_name": "Python 3 (ipykernel)",
   "language": "python",
   "name": "python3"
  },
  "language_info": {
   "codemirror_mode": {
    "name": "ipython",
    "version": 3
   },
   "file_extension": ".py",
   "mimetype": "text/x-python",
   "name": "python",
   "nbconvert_exporter": "python",
   "pygments_lexer": "ipython3",
   "version": "3.7.10"
  }
 },
 "nbformat": 4,
 "nbformat_minor": 5
}
